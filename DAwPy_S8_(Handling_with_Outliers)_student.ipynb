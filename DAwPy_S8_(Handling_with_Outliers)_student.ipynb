{
  "cells": [
    {
      "cell_type": "markdown",
      "metadata": {
        "id": "view-in-github",
        "colab_type": "text"
      },
      "source": [
        "<a href=\"https://colab.research.google.com/github/tadanur/Python-Assignments/blob/main/DAwPy_S8_(Handling_with_Outliers)_student.ipynb\" target=\"_parent\"><img src=\"https://colab.research.google.com/assets/colab-badge.svg\" alt=\"Open In Colab\"/></a>"
      ]
    },
    {
      "cell_type": "markdown",
      "metadata": {
        "id": "IlgneDcCDyzP"
      },
      "source": [
        "<p style=\"text-align: center;\"><img src=\"https://docs.google.com/uc?id=1lY0Uj5R04yMY3-ZppPWxqCr5pvBLYPnV\" class=\"img-fluid\" \n",
        "alt=\"CLRSWY\"></p>\n",
        "\n",
        "## <p style=\"background-color:#FDFEFE; font-family:newtimeroman; color:#9d4f8c; font-size:100%; text-align:center; border-radius:10px 10px;\">WAY TO REINVENT YOURSELF</p>"
      ]
    },
    {
      "cell_type": "markdown",
      "metadata": {
        "id": "U08URC_kDyzW"
      },
      "source": [
        "<img src=https://i.ibb.co/6gCsHd6/1200px-Pandas-logo-svg.png width=\"700\" height=\"200\">\n",
        "\n",
        "## <p style=\"background-color:#FDFEFE; font-family:newtimeroman; color:#060108; font-size:200%; text-align:center; border-radius:10px 10px;\">Data Analysis with Python</p>\n",
        "\n",
        "## <p style=\"background-color:#FDFEFE; font-family:newtimeroman; color:#060108; font-size:150%; text-align:center; border-radius:10px 10px;\">Session - 08</p>\n",
        "\n",
        "## <p style=\"background-color:#FDFEFE; font-family:newtimeroman; color:#4d77cf; font-size:200%; text-align:center; border-radius:10px 10px;\">Handling with Outliers</p>"
      ]
    },
    {
      "cell_type": "markdown",
      "metadata": {
        "id": "3vnM00e0DyzX"
      },
      "source": [
        "<a id=\"toc\"></a>\n",
        "\n",
        "## <p style=\"background-color:#9d4f8c; font-family:newtimeroman; color:#FFF9ED; font-size:175%; text-align:center; border-radius:10px 10px;\">Content</p>\n",
        "\n",
        "* [IMPORTING LIBRARIES NEEDED IN THIS NOTEBOOK](#0)\n",
        "* [HANDLING WITH OUTLIERS](#1)\n",
        "* [CATCHING & DETECTING OUTLIERS](#2)\n",
        "* [REMOVING THE OUTLIERS](#3)    \n",
        "* [LIMITATION & TRANSFORMATION OF THE OUTLIERS](#4)    \n",
        "* [THE END OF THE SESSION - 07](#5)"
      ]
    },
    {
      "cell_type": "markdown",
      "metadata": {
        "id": "zw8X5GTUoARc"
      },
      "source": [
        "## <p style=\"background-color:#9d4f8c; font-family:newtimeroman; color:#FFF9ED; font-size:175%; text-align:center; border-radius:10px 10px;\">Importing Libraries Needed in This Notebook</p>\n",
        "\n",
        "<a id=\"0\"></a>\n",
        "<a href=\"#toc\" class=\"btn btn-primary btn-sm\" role=\"button\" aria-pressed=\"true\" \n",
        "style=\"color:blue; background-color:#dfa8e4\" data-toggle=\"popover\">Content</a>\n",
        "\n",
        "Once you've installed NumPy & Pandas you can import them as a library:"
      ]
    },
    {
      "cell_type": "code",
      "execution_count": 3,
      "metadata": {
        "id": "-bhPlyEyDyzY"
      },
      "outputs": [],
      "source": [
        "import numpy as np\n",
        "import pandas as pd\n",
        "import seaborn as sns\n",
        "import matplotlib.pyplot as plt"
      ]
    },
    {
      "cell_type": "markdown",
      "metadata": {
        "id": "XcFDXSrZPR9p"
      },
      "source": [
        "## <p style=\"background-color:#9d4f8c; font-family:newtimeroman; color:#FFF9ED; font-size:175%; text-align:center; border-radius:10px 10px;\">Handling with Outliers</p>\n",
        "\n",
        "<a id=\"1\"></a>\n",
        "<a href=\"#toc\" class=\"btn btn-primary btn-sm\" role=\"button\" aria-pressed=\"true\" \n",
        "style=\"color:blue; background-color:#dfa8e4\" data-toggle=\"popover\">Content</a>\n",
        "\n",
        "### What is Outlier? [Source](https://statisticsbyjim.com/basics/remove-outliers/#:~:text=Outliers%20are%20unusual%20values%20in,what%20to%20do%20with%20them.)\n",
        "\n",
        "In general, <b>``Outliers``</b> are **unusual values** in your dataset, and they can **distort statistical analyses and violate their assumptions**. ... Outliers increase the variability in your data, which decreases statistical power. Consequently, excluding outliers can cause your results to become statistically significant. Outliers can have a disproportionate effect on statistical results, such as the mean, which can result in misleading interpretations. In this case, the mean value makes it seem that the data values are higher than they really are."
      ]
    },
    {
      "cell_type": "markdown",
      "metadata": {
        "id": "t4a64Hsr98gW"
      },
      "source": [
        "### Most common causes of outliers on a data set [Source](https://towardsdatascience.com/a-brief-overview-of-outlier-detection-techniques-1e0b2c19e561):\n",
        "\n",
        "- Data entry errors (human errors)\n",
        "- Measurement errors (instrument errors)\n",
        "- Experimental errors (data extraction or experiment planning/executing errors)\n",
        "- Intentional (dummy outliers made to test detection methods)\n",
        "- Data processing errors (data manipulation or data set unintended mutations)\n",
        "- Sampling errors (extracting or mixing data from wrong or various sources)\n",
        "- Natural (not an error, novelties in data) "
      ]
    },
    {
      "cell_type": "markdown",
      "source": [
        "**HANDLING WITH OUTLIERS**\n",
        "\n",
        "*   Removing the outliers.\n",
        "*   Limitation the outliers (winsorize): Genelde datayi manipule eden bi yontem, cok tavsiye edilmez.\n",
        "* Data Transformation (log, square root, exponentiating): If you apply the same thing to all the data values, you don't change the relationship between them. Olceklendirme gibi..\n",
        "* Replacing outliers (mean, median, mode): Outlierlari missing valueya cevirip fill edersin\n",
        "* Valuing outliers (valid reason for the outlier to exist): Bazen de outlier olmasinin gecerli bi sebebi vardir ve keep etmek istersin.\n",
        "* Entry error ise manually duzeltilebilir. If you can't fix it, at gitsin.\n",
        "* Calistiginiz population disinda bir deger. Remove edilebilir.\n",
        "* Ancak calistiginiz alanda naturally olabilecek bi degerse, remove etmeyin. Mesela healthcarede cok unexpected bi test degeri cikti, hastalik dolayisiyla cikmis olabilir. Bu tarz datalar atilmaz..\n",
        "\n",
        "\n"
      ],
      "metadata": {
        "id": "EQrlVRwP-ZZq"
      }
    },
    {
      "cell_type": "markdown",
      "metadata": {
        "id": "l8c99aJ798gW"
      },
      "source": [
        "### Guideline for Handling Outliers [Source 01](https://statisticsbyjim.com/basics/remove-outliers/#:~:text=Outliers%20are%20unusual%20values%20in,what%20to%20do%20with%20them.) & [Source 02](https://www.researchgate.net/publication/258174106_Best-Practice_Recommendations_for_Defining_Identifying_and_Handling_Outliers)\n",
        "\n",
        "- A measurement error or data entry error, correct the error if possible. If you can’t fix it, remove that observation because you know it’s incorrect.\n",
        "- Not a part of the population you are studying (i.e., unusual properties or conditions), you can legitimately remove the outlier.\n",
        "- A natural part of the population you are studying, you should not remove it."
      ]
    },
    {
      "cell_type": "markdown",
      "metadata": {
        "id": "-ubsHXY6Dyzz"
      },
      "source": [
        "## <p style=\"background-color:#9d4f8c; font-family:newtimeroman; color:#FFF9ED; font-size:175%; text-align:center; border-radius:10px 10px;\">Catching and Detecting Outliers</p>\n",
        "\n",
        "<a id=\"2\"></a>\n",
        "<a href=\"#toc\" class=\"btn btn-primary btn-sm\" role=\"button\" aria-pressed=\"true\" \n",
        "style=\"color:blue; background-color:#dfa8e4\" data-toggle=\"popover\">Content</a>"
      ]
    },
    {
      "cell_type": "code",
      "execution_count": 5,
      "metadata": {
        "id": "BGrqkPpjoARj",
        "outputId": "4ba14769-d2de-401f-f51a-01aada357ab7",
        "colab": {
          "base_uri": "https://localhost:8080/"
        }
      },
      "outputs": [
        {
          "output_type": "execute_result",
          "data": {
            "text/plain": [
              "['anagrams',\n",
              " 'anscombe',\n",
              " 'attention',\n",
              " 'brain_networks',\n",
              " 'car_crashes',\n",
              " 'diamonds',\n",
              " 'dots',\n",
              " 'exercise',\n",
              " 'flights',\n",
              " 'fmri',\n",
              " 'gammas',\n",
              " 'geyser',\n",
              " 'iris',\n",
              " 'mpg',\n",
              " 'penguins',\n",
              " 'planets',\n",
              " 'taxis',\n",
              " 'tips',\n",
              " 'titanic']"
            ]
          },
          "metadata": {},
          "execution_count": 5
        }
      ],
      "source": [
        "sns.get_dataset_names()"
      ]
    },
    {
      "cell_type": "code",
      "execution_count": 6,
      "metadata": {
        "id": "KYQ-njCToARk",
        "outputId": "a553ae9b-ce65-4522-84fc-d83e926541f9",
        "colab": {
          "base_uri": "https://localhost:8080/",
          "height": 424
        }
      },
      "outputs": [
        {
          "output_type": "execute_result",
          "data": {
            "text/plain": [
              "       carat        cut color clarity  depth  table  price     x     y     z\n",
              "0       0.23      Ideal     E     SI2   61.5   55.0    326  3.95  3.98  2.43\n",
              "1       0.21    Premium     E     SI1   59.8   61.0    326  3.89  3.84  2.31\n",
              "2       0.23       Good     E     VS1   56.9   65.0    327  4.05  4.07  2.31\n",
              "3       0.29    Premium     I     VS2   62.4   58.0    334  4.20  4.23  2.63\n",
              "4       0.31       Good     J     SI2   63.3   58.0    335  4.34  4.35  2.75\n",
              "...      ...        ...   ...     ...    ...    ...    ...   ...   ...   ...\n",
              "53935   0.72      Ideal     D     SI1   60.8   57.0   2757  5.75  5.76  3.50\n",
              "53936   0.72       Good     D     SI1   63.1   55.0   2757  5.69  5.75  3.61\n",
              "53937   0.70  Very Good     D     SI1   62.8   60.0   2757  5.66  5.68  3.56\n",
              "53938   0.86    Premium     H     SI2   61.0   58.0   2757  6.15  6.12  3.74\n",
              "53939   0.75      Ideal     D     SI2   62.2   55.0   2757  5.83  5.87  3.64\n",
              "\n",
              "[53940 rows x 10 columns]"
            ],
            "text/html": [
              "\n",
              "  <div id=\"df-132dc8d2-4c17-4796-8821-3fda6643b902\">\n",
              "    <div class=\"colab-df-container\">\n",
              "      <div>\n",
              "<style scoped>\n",
              "    .dataframe tbody tr th:only-of-type {\n",
              "        vertical-align: middle;\n",
              "    }\n",
              "\n",
              "    .dataframe tbody tr th {\n",
              "        vertical-align: top;\n",
              "    }\n",
              "\n",
              "    .dataframe thead th {\n",
              "        text-align: right;\n",
              "    }\n",
              "</style>\n",
              "<table border=\"1\" class=\"dataframe\">\n",
              "  <thead>\n",
              "    <tr style=\"text-align: right;\">\n",
              "      <th></th>\n",
              "      <th>carat</th>\n",
              "      <th>cut</th>\n",
              "      <th>color</th>\n",
              "      <th>clarity</th>\n",
              "      <th>depth</th>\n",
              "      <th>table</th>\n",
              "      <th>price</th>\n",
              "      <th>x</th>\n",
              "      <th>y</th>\n",
              "      <th>z</th>\n",
              "    </tr>\n",
              "  </thead>\n",
              "  <tbody>\n",
              "    <tr>\n",
              "      <th>0</th>\n",
              "      <td>0.23</td>\n",
              "      <td>Ideal</td>\n",
              "      <td>E</td>\n",
              "      <td>SI2</td>\n",
              "      <td>61.5</td>\n",
              "      <td>55.0</td>\n",
              "      <td>326</td>\n",
              "      <td>3.95</td>\n",
              "      <td>3.98</td>\n",
              "      <td>2.43</td>\n",
              "    </tr>\n",
              "    <tr>\n",
              "      <th>1</th>\n",
              "      <td>0.21</td>\n",
              "      <td>Premium</td>\n",
              "      <td>E</td>\n",
              "      <td>SI1</td>\n",
              "      <td>59.8</td>\n",
              "      <td>61.0</td>\n",
              "      <td>326</td>\n",
              "      <td>3.89</td>\n",
              "      <td>3.84</td>\n",
              "      <td>2.31</td>\n",
              "    </tr>\n",
              "    <tr>\n",
              "      <th>2</th>\n",
              "      <td>0.23</td>\n",
              "      <td>Good</td>\n",
              "      <td>E</td>\n",
              "      <td>VS1</td>\n",
              "      <td>56.9</td>\n",
              "      <td>65.0</td>\n",
              "      <td>327</td>\n",
              "      <td>4.05</td>\n",
              "      <td>4.07</td>\n",
              "      <td>2.31</td>\n",
              "    </tr>\n",
              "    <tr>\n",
              "      <th>3</th>\n",
              "      <td>0.29</td>\n",
              "      <td>Premium</td>\n",
              "      <td>I</td>\n",
              "      <td>VS2</td>\n",
              "      <td>62.4</td>\n",
              "      <td>58.0</td>\n",
              "      <td>334</td>\n",
              "      <td>4.20</td>\n",
              "      <td>4.23</td>\n",
              "      <td>2.63</td>\n",
              "    </tr>\n",
              "    <tr>\n",
              "      <th>4</th>\n",
              "      <td>0.31</td>\n",
              "      <td>Good</td>\n",
              "      <td>J</td>\n",
              "      <td>SI2</td>\n",
              "      <td>63.3</td>\n",
              "      <td>58.0</td>\n",
              "      <td>335</td>\n",
              "      <td>4.34</td>\n",
              "      <td>4.35</td>\n",
              "      <td>2.75</td>\n",
              "    </tr>\n",
              "    <tr>\n",
              "      <th>...</th>\n",
              "      <td>...</td>\n",
              "      <td>...</td>\n",
              "      <td>...</td>\n",
              "      <td>...</td>\n",
              "      <td>...</td>\n",
              "      <td>...</td>\n",
              "      <td>...</td>\n",
              "      <td>...</td>\n",
              "      <td>...</td>\n",
              "      <td>...</td>\n",
              "    </tr>\n",
              "    <tr>\n",
              "      <th>53935</th>\n",
              "      <td>0.72</td>\n",
              "      <td>Ideal</td>\n",
              "      <td>D</td>\n",
              "      <td>SI1</td>\n",
              "      <td>60.8</td>\n",
              "      <td>57.0</td>\n",
              "      <td>2757</td>\n",
              "      <td>5.75</td>\n",
              "      <td>5.76</td>\n",
              "      <td>3.50</td>\n",
              "    </tr>\n",
              "    <tr>\n",
              "      <th>53936</th>\n",
              "      <td>0.72</td>\n",
              "      <td>Good</td>\n",
              "      <td>D</td>\n",
              "      <td>SI1</td>\n",
              "      <td>63.1</td>\n",
              "      <td>55.0</td>\n",
              "      <td>2757</td>\n",
              "      <td>5.69</td>\n",
              "      <td>5.75</td>\n",
              "      <td>3.61</td>\n",
              "    </tr>\n",
              "    <tr>\n",
              "      <th>53937</th>\n",
              "      <td>0.70</td>\n",
              "      <td>Very Good</td>\n",
              "      <td>D</td>\n",
              "      <td>SI1</td>\n",
              "      <td>62.8</td>\n",
              "      <td>60.0</td>\n",
              "      <td>2757</td>\n",
              "      <td>5.66</td>\n",
              "      <td>5.68</td>\n",
              "      <td>3.56</td>\n",
              "    </tr>\n",
              "    <tr>\n",
              "      <th>53938</th>\n",
              "      <td>0.86</td>\n",
              "      <td>Premium</td>\n",
              "      <td>H</td>\n",
              "      <td>SI2</td>\n",
              "      <td>61.0</td>\n",
              "      <td>58.0</td>\n",
              "      <td>2757</td>\n",
              "      <td>6.15</td>\n",
              "      <td>6.12</td>\n",
              "      <td>3.74</td>\n",
              "    </tr>\n",
              "    <tr>\n",
              "      <th>53939</th>\n",
              "      <td>0.75</td>\n",
              "      <td>Ideal</td>\n",
              "      <td>D</td>\n",
              "      <td>SI2</td>\n",
              "      <td>62.2</td>\n",
              "      <td>55.0</td>\n",
              "      <td>2757</td>\n",
              "      <td>5.83</td>\n",
              "      <td>5.87</td>\n",
              "      <td>3.64</td>\n",
              "    </tr>\n",
              "  </tbody>\n",
              "</table>\n",
              "<p>53940 rows × 10 columns</p>\n",
              "</div>\n",
              "      <button class=\"colab-df-convert\" onclick=\"convertToInteractive('df-132dc8d2-4c17-4796-8821-3fda6643b902')\"\n",
              "              title=\"Convert this dataframe to an interactive table.\"\n",
              "              style=\"display:none;\">\n",
              "        \n",
              "  <svg xmlns=\"http://www.w3.org/2000/svg\" height=\"24px\"viewBox=\"0 0 24 24\"\n",
              "       width=\"24px\">\n",
              "    <path d=\"M0 0h24v24H0V0z\" fill=\"none\"/>\n",
              "    <path d=\"M18.56 5.44l.94 2.06.94-2.06 2.06-.94-2.06-.94-.94-2.06-.94 2.06-2.06.94zm-11 1L8.5 8.5l.94-2.06 2.06-.94-2.06-.94L8.5 2.5l-.94 2.06-2.06.94zm10 10l.94 2.06.94-2.06 2.06-.94-2.06-.94-.94-2.06-.94 2.06-2.06.94z\"/><path d=\"M17.41 7.96l-1.37-1.37c-.4-.4-.92-.59-1.43-.59-.52 0-1.04.2-1.43.59L10.3 9.45l-7.72 7.72c-.78.78-.78 2.05 0 2.83L4 21.41c.39.39.9.59 1.41.59.51 0 1.02-.2 1.41-.59l7.78-7.78 2.81-2.81c.8-.78.8-2.07 0-2.86zM5.41 20L4 18.59l7.72-7.72 1.47 1.35L5.41 20z\"/>\n",
              "  </svg>\n",
              "      </button>\n",
              "      \n",
              "  <style>\n",
              "    .colab-df-container {\n",
              "      display:flex;\n",
              "      flex-wrap:wrap;\n",
              "      gap: 12px;\n",
              "    }\n",
              "\n",
              "    .colab-df-convert {\n",
              "      background-color: #E8F0FE;\n",
              "      border: none;\n",
              "      border-radius: 50%;\n",
              "      cursor: pointer;\n",
              "      display: none;\n",
              "      fill: #1967D2;\n",
              "      height: 32px;\n",
              "      padding: 0 0 0 0;\n",
              "      width: 32px;\n",
              "    }\n",
              "\n",
              "    .colab-df-convert:hover {\n",
              "      background-color: #E2EBFA;\n",
              "      box-shadow: 0px 1px 2px rgba(60, 64, 67, 0.3), 0px 1px 3px 1px rgba(60, 64, 67, 0.15);\n",
              "      fill: #174EA6;\n",
              "    }\n",
              "\n",
              "    [theme=dark] .colab-df-convert {\n",
              "      background-color: #3B4455;\n",
              "      fill: #D2E3FC;\n",
              "    }\n",
              "\n",
              "    [theme=dark] .colab-df-convert:hover {\n",
              "      background-color: #434B5C;\n",
              "      box-shadow: 0px 1px 3px 1px rgba(0, 0, 0, 0.15);\n",
              "      filter: drop-shadow(0px 1px 2px rgba(0, 0, 0, 0.3));\n",
              "      fill: #FFFFFF;\n",
              "    }\n",
              "  </style>\n",
              "\n",
              "      <script>\n",
              "        const buttonEl =\n",
              "          document.querySelector('#df-132dc8d2-4c17-4796-8821-3fda6643b902 button.colab-df-convert');\n",
              "        buttonEl.style.display =\n",
              "          google.colab.kernel.accessAllowed ? 'block' : 'none';\n",
              "\n",
              "        async function convertToInteractive(key) {\n",
              "          const element = document.querySelector('#df-132dc8d2-4c17-4796-8821-3fda6643b902');\n",
              "          const dataTable =\n",
              "            await google.colab.kernel.invokeFunction('convertToInteractive',\n",
              "                                                     [key], {});\n",
              "          if (!dataTable) return;\n",
              "\n",
              "          const docLinkHtml = 'Like what you see? Visit the ' +\n",
              "            '<a target=\"_blank\" href=https://colab.research.google.com/notebooks/data_table.ipynb>data table notebook</a>'\n",
              "            + ' to learn more about interactive tables.';\n",
              "          element.innerHTML = '';\n",
              "          dataTable['output_type'] = 'display_data';\n",
              "          await google.colab.output.renderOutput(dataTable, element);\n",
              "          const docLink = document.createElement('div');\n",
              "          docLink.innerHTML = docLinkHtml;\n",
              "          element.appendChild(docLink);\n",
              "        }\n",
              "      </script>\n",
              "    </div>\n",
              "  </div>\n",
              "  "
            ]
          },
          "metadata": {},
          "execution_count": 6
        }
      ],
      "source": [
        "df = sns.load_dataset(\"diamonds\")\n",
        "df"
      ]
    },
    {
      "cell_type": "code",
      "execution_count": 7,
      "metadata": {
        "id": "ECNPZFSDoARk",
        "outputId": "0b3b91f1-66ef-497a-ca20-aae0dc30d1c2",
        "colab": {
          "base_uri": "https://localhost:8080/",
          "height": 424
        }
      },
      "outputs": [
        {
          "output_type": "execute_result",
          "data": {
            "text/plain": [
              "       carat  depth  table  price     x     y     z\n",
              "0       0.23   61.5   55.0    326  3.95  3.98  2.43\n",
              "1       0.21   59.8   61.0    326  3.89  3.84  2.31\n",
              "2       0.23   56.9   65.0    327  4.05  4.07  2.31\n",
              "3       0.29   62.4   58.0    334  4.20  4.23  2.63\n",
              "4       0.31   63.3   58.0    335  4.34  4.35  2.75\n",
              "...      ...    ...    ...    ...   ...   ...   ...\n",
              "53935   0.72   60.8   57.0   2757  5.75  5.76  3.50\n",
              "53936   0.72   63.1   55.0   2757  5.69  5.75  3.61\n",
              "53937   0.70   62.8   60.0   2757  5.66  5.68  3.56\n",
              "53938   0.86   61.0   58.0   2757  6.15  6.12  3.74\n",
              "53939   0.75   62.2   55.0   2757  5.83  5.87  3.64\n",
              "\n",
              "[53940 rows x 7 columns]"
            ],
            "text/html": [
              "\n",
              "  <div id=\"df-dff7182a-0d91-4e9d-a5d9-5519b1ea018d\">\n",
              "    <div class=\"colab-df-container\">\n",
              "      <div>\n",
              "<style scoped>\n",
              "    .dataframe tbody tr th:only-of-type {\n",
              "        vertical-align: middle;\n",
              "    }\n",
              "\n",
              "    .dataframe tbody tr th {\n",
              "        vertical-align: top;\n",
              "    }\n",
              "\n",
              "    .dataframe thead th {\n",
              "        text-align: right;\n",
              "    }\n",
              "</style>\n",
              "<table border=\"1\" class=\"dataframe\">\n",
              "  <thead>\n",
              "    <tr style=\"text-align: right;\">\n",
              "      <th></th>\n",
              "      <th>carat</th>\n",
              "      <th>depth</th>\n",
              "      <th>table</th>\n",
              "      <th>price</th>\n",
              "      <th>x</th>\n",
              "      <th>y</th>\n",
              "      <th>z</th>\n",
              "    </tr>\n",
              "  </thead>\n",
              "  <tbody>\n",
              "    <tr>\n",
              "      <th>0</th>\n",
              "      <td>0.23</td>\n",
              "      <td>61.5</td>\n",
              "      <td>55.0</td>\n",
              "      <td>326</td>\n",
              "      <td>3.95</td>\n",
              "      <td>3.98</td>\n",
              "      <td>2.43</td>\n",
              "    </tr>\n",
              "    <tr>\n",
              "      <th>1</th>\n",
              "      <td>0.21</td>\n",
              "      <td>59.8</td>\n",
              "      <td>61.0</td>\n",
              "      <td>326</td>\n",
              "      <td>3.89</td>\n",
              "      <td>3.84</td>\n",
              "      <td>2.31</td>\n",
              "    </tr>\n",
              "    <tr>\n",
              "      <th>2</th>\n",
              "      <td>0.23</td>\n",
              "      <td>56.9</td>\n",
              "      <td>65.0</td>\n",
              "      <td>327</td>\n",
              "      <td>4.05</td>\n",
              "      <td>4.07</td>\n",
              "      <td>2.31</td>\n",
              "    </tr>\n",
              "    <tr>\n",
              "      <th>3</th>\n",
              "      <td>0.29</td>\n",
              "      <td>62.4</td>\n",
              "      <td>58.0</td>\n",
              "      <td>334</td>\n",
              "      <td>4.20</td>\n",
              "      <td>4.23</td>\n",
              "      <td>2.63</td>\n",
              "    </tr>\n",
              "    <tr>\n",
              "      <th>4</th>\n",
              "      <td>0.31</td>\n",
              "      <td>63.3</td>\n",
              "      <td>58.0</td>\n",
              "      <td>335</td>\n",
              "      <td>4.34</td>\n",
              "      <td>4.35</td>\n",
              "      <td>2.75</td>\n",
              "    </tr>\n",
              "    <tr>\n",
              "      <th>...</th>\n",
              "      <td>...</td>\n",
              "      <td>...</td>\n",
              "      <td>...</td>\n",
              "      <td>...</td>\n",
              "      <td>...</td>\n",
              "      <td>...</td>\n",
              "      <td>...</td>\n",
              "    </tr>\n",
              "    <tr>\n",
              "      <th>53935</th>\n",
              "      <td>0.72</td>\n",
              "      <td>60.8</td>\n",
              "      <td>57.0</td>\n",
              "      <td>2757</td>\n",
              "      <td>5.75</td>\n",
              "      <td>5.76</td>\n",
              "      <td>3.50</td>\n",
              "    </tr>\n",
              "    <tr>\n",
              "      <th>53936</th>\n",
              "      <td>0.72</td>\n",
              "      <td>63.1</td>\n",
              "      <td>55.0</td>\n",
              "      <td>2757</td>\n",
              "      <td>5.69</td>\n",
              "      <td>5.75</td>\n",
              "      <td>3.61</td>\n",
              "    </tr>\n",
              "    <tr>\n",
              "      <th>53937</th>\n",
              "      <td>0.70</td>\n",
              "      <td>62.8</td>\n",
              "      <td>60.0</td>\n",
              "      <td>2757</td>\n",
              "      <td>5.66</td>\n",
              "      <td>5.68</td>\n",
              "      <td>3.56</td>\n",
              "    </tr>\n",
              "    <tr>\n",
              "      <th>53938</th>\n",
              "      <td>0.86</td>\n",
              "      <td>61.0</td>\n",
              "      <td>58.0</td>\n",
              "      <td>2757</td>\n",
              "      <td>6.15</td>\n",
              "      <td>6.12</td>\n",
              "      <td>3.74</td>\n",
              "    </tr>\n",
              "    <tr>\n",
              "      <th>53939</th>\n",
              "      <td>0.75</td>\n",
              "      <td>62.2</td>\n",
              "      <td>55.0</td>\n",
              "      <td>2757</td>\n",
              "      <td>5.83</td>\n",
              "      <td>5.87</td>\n",
              "      <td>3.64</td>\n",
              "    </tr>\n",
              "  </tbody>\n",
              "</table>\n",
              "<p>53940 rows × 7 columns</p>\n",
              "</div>\n",
              "      <button class=\"colab-df-convert\" onclick=\"convertToInteractive('df-dff7182a-0d91-4e9d-a5d9-5519b1ea018d')\"\n",
              "              title=\"Convert this dataframe to an interactive table.\"\n",
              "              style=\"display:none;\">\n",
              "        \n",
              "  <svg xmlns=\"http://www.w3.org/2000/svg\" height=\"24px\"viewBox=\"0 0 24 24\"\n",
              "       width=\"24px\">\n",
              "    <path d=\"M0 0h24v24H0V0z\" fill=\"none\"/>\n",
              "    <path d=\"M18.56 5.44l.94 2.06.94-2.06 2.06-.94-2.06-.94-.94-2.06-.94 2.06-2.06.94zm-11 1L8.5 8.5l.94-2.06 2.06-.94-2.06-.94L8.5 2.5l-.94 2.06-2.06.94zm10 10l.94 2.06.94-2.06 2.06-.94-2.06-.94-.94-2.06-.94 2.06-2.06.94z\"/><path d=\"M17.41 7.96l-1.37-1.37c-.4-.4-.92-.59-1.43-.59-.52 0-1.04.2-1.43.59L10.3 9.45l-7.72 7.72c-.78.78-.78 2.05 0 2.83L4 21.41c.39.39.9.59 1.41.59.51 0 1.02-.2 1.41-.59l7.78-7.78 2.81-2.81c.8-.78.8-2.07 0-2.86zM5.41 20L4 18.59l7.72-7.72 1.47 1.35L5.41 20z\"/>\n",
              "  </svg>\n",
              "      </button>\n",
              "      \n",
              "  <style>\n",
              "    .colab-df-container {\n",
              "      display:flex;\n",
              "      flex-wrap:wrap;\n",
              "      gap: 12px;\n",
              "    }\n",
              "\n",
              "    .colab-df-convert {\n",
              "      background-color: #E8F0FE;\n",
              "      border: none;\n",
              "      border-radius: 50%;\n",
              "      cursor: pointer;\n",
              "      display: none;\n",
              "      fill: #1967D2;\n",
              "      height: 32px;\n",
              "      padding: 0 0 0 0;\n",
              "      width: 32px;\n",
              "    }\n",
              "\n",
              "    .colab-df-convert:hover {\n",
              "      background-color: #E2EBFA;\n",
              "      box-shadow: 0px 1px 2px rgba(60, 64, 67, 0.3), 0px 1px 3px 1px rgba(60, 64, 67, 0.15);\n",
              "      fill: #174EA6;\n",
              "    }\n",
              "\n",
              "    [theme=dark] .colab-df-convert {\n",
              "      background-color: #3B4455;\n",
              "      fill: #D2E3FC;\n",
              "    }\n",
              "\n",
              "    [theme=dark] .colab-df-convert:hover {\n",
              "      background-color: #434B5C;\n",
              "      box-shadow: 0px 1px 3px 1px rgba(0, 0, 0, 0.15);\n",
              "      filter: drop-shadow(0px 1px 2px rgba(0, 0, 0, 0.3));\n",
              "      fill: #FFFFFF;\n",
              "    }\n",
              "  </style>\n",
              "\n",
              "      <script>\n",
              "        const buttonEl =\n",
              "          document.querySelector('#df-dff7182a-0d91-4e9d-a5d9-5519b1ea018d button.colab-df-convert');\n",
              "        buttonEl.style.display =\n",
              "          google.colab.kernel.accessAllowed ? 'block' : 'none';\n",
              "\n",
              "        async function convertToInteractive(key) {\n",
              "          const element = document.querySelector('#df-dff7182a-0d91-4e9d-a5d9-5519b1ea018d');\n",
              "          const dataTable =\n",
              "            await google.colab.kernel.invokeFunction('convertToInteractive',\n",
              "                                                     [key], {});\n",
              "          if (!dataTable) return;\n",
              "\n",
              "          const docLinkHtml = 'Like what you see? Visit the ' +\n",
              "            '<a target=\"_blank\" href=https://colab.research.google.com/notebooks/data_table.ipynb>data table notebook</a>'\n",
              "            + ' to learn more about interactive tables.';\n",
              "          element.innerHTML = '';\n",
              "          dataTable['output_type'] = 'display_data';\n",
              "          await google.colab.output.renderOutput(dataTable, element);\n",
              "          const docLink = document.createElement('div');\n",
              "          docLink.innerHTML = docLinkHtml;\n",
              "          element.appendChild(docLink);\n",
              "        }\n",
              "      </script>\n",
              "    </div>\n",
              "  </div>\n",
              "  "
            ]
          },
          "metadata": {},
          "execution_count": 7
        }
      ],
      "source": [
        "df.select_dtypes(include=\"number\")"
      ]
    },
    {
      "cell_type": "code",
      "execution_count": 8,
      "metadata": {
        "id": "d71TXo_VoARl",
        "outputId": "53edf91b-e2b6-4234-9aec-01165b8977b4",
        "colab": {
          "base_uri": "https://localhost:8080/"
        }
      },
      "outputs": [
        {
          "output_type": "stream",
          "name": "stdout",
          "text": [
            "<class 'pandas.core.frame.DataFrame'>\n",
            "RangeIndex: 53940 entries, 0 to 53939\n",
            "Data columns (total 10 columns):\n",
            " #   Column   Non-Null Count  Dtype   \n",
            "---  ------   --------------  -----   \n",
            " 0   carat    53940 non-null  float64 \n",
            " 1   cut      53940 non-null  category\n",
            " 2   color    53940 non-null  category\n",
            " 3   clarity  53940 non-null  category\n",
            " 4   depth    53940 non-null  float64 \n",
            " 5   table    53940 non-null  float64 \n",
            " 6   price    53940 non-null  int64   \n",
            " 7   x        53940 non-null  float64 \n",
            " 8   y        53940 non-null  float64 \n",
            " 9   z        53940 non-null  float64 \n",
            "dtypes: category(3), float64(6), int64(1)\n",
            "memory usage: 3.0 MB\n"
          ]
        }
      ],
      "source": [
        "df.info()"
      ]
    },
    {
      "cell_type": "markdown",
      "metadata": {
        "id": "Tln9DbkIoARl"
      },
      "source": [
        "**info about dataset**\n",
        "- **carat   :**Carat weight of the diamond\n",
        "- **depth % :**The height of a diamond, measured from the culet to the table, divided by its average girdle diameter\n",
        "- **table % :**The width of the diamond's table expressed as a percentage of its average diameter\n",
        "- **price   :**the price of the diamond\n",
        "- **x       :**length mm\n",
        "- **y       :**width mm\n",
        "- **z       :**higth mm"
      ]
    },
    {
      "cell_type": "markdown",
      "metadata": {
        "id": "EvAZmhR498gX"
      },
      "source": [
        "### Detecting Outliers with Graphs"
      ]
    },
    {
      "cell_type": "code",
      "execution_count": 9,
      "metadata": {
        "id": "tXFj2iv_oARm",
        "outputId": "f27ec0a6-f96d-47e0-eaeb-1c003e78a4ca",
        "colab": {
          "base_uri": "https://localhost:8080/",
          "height": 497
        }
      },
      "outputs": [
        {
          "output_type": "display_data",
          "data": {
            "text/plain": [
              "<Figure size 1080x576 with 1 Axes>"
            ],
            "image/png": "[encoded data removed]"
          },
          "metadata": {
            "needs_background": "light"
          }
        }
      ],
      "source": [
        "plt.figure(figsize=(15,8))\n",
        "sns.boxplot(x=df.table);"
      ]
    },
    {
      "cell_type": "code",
      "execution_count": 11,
      "metadata": {
        "id": "xxAsqENioARm",
        "outputId": "55ad877d-17b8-446f-9b65-f4e8d7d7ed74",
        "colab": {
          "base_uri": "https://localhost:8080/",
          "height": 388
        }
      },
      "outputs": [
        {
          "output_type": "display_data",
          "data": {
            "text/plain": [
              "<Figure size 576x432 with 1 Axes>"
            ],
            "image/png": "[encoded data removed]"
          },
          "metadata": {
            "needs_background": "light"
          }
        }
      ],
      "source": [
        "plt.figure(figsize=(8,6))\n",
        "sns.histplot(df.table, bins=30, kde=False);"
      ]
    },
    {
      "cell_type": "code",
      "execution_count": 12,
      "metadata": {
        "id": "jvYFUZzCoARn",
        "outputId": "4192b517-90da-4019-db50-07cd56bac19a",
        "colab": {
          "base_uri": "https://localhost:8080/"
        }
      },
      "outputs": [
        {
          "output_type": "execute_result",
          "data": {
            "text/plain": [
              "11368    43.0\n",
              "35633    44.0\n",
              "5979     49.0\n",
              "22701    49.0\n",
              "25179    50.0\n",
              "         ... \n",
              "52861    73.0\n",
              "52860    73.0\n",
              "51342    76.0\n",
              "50773    79.0\n",
              "24932    95.0\n",
              "Name: table, Length: 53940, dtype: float64"
            ]
          },
          "metadata": {},
          "execution_count": 12
        }
      ],
      "source": [
        "df.table.sort_values()"
      ]
    },
    {
      "cell_type": "code",
      "execution_count": 18,
      "metadata": {
        "id": "l9HndIP4oARn",
        "outputId": "e5d5632f-d584-439a-9d02-6cfe06a5b2d7",
        "colab": {
          "base_uri": "https://localhost:8080/"
        }
      },
      "outputs": [
        {
          "output_type": "execute_result",
          "data": {
            "text/plain": [
              "23067    70.0\n",
              "43705    70.0\n",
              "44938    71.0\n",
              "51391    73.0\n",
              "49375    73.0\n",
              "52861    73.0\n",
              "52860    73.0\n",
              "51342    76.0\n",
              "50773    79.0\n",
              "24932    95.0\n",
              "Name: table, dtype: float64"
            ]
          },
          "metadata": {},
          "execution_count": 18
        }
      ],
      "source": [
        "df.table.sort_values().tail(10)"
      ]
    },
    {
      "cell_type": "code",
      "execution_count": 20,
      "metadata": {
        "id": "CoicZfAHoARn",
        "outputId": "ba5a5033-4237-4b15-be9e-982f0e484588",
        "colab": {
          "base_uri": "https://localhost:8080/"
        }
      },
      "outputs": [
        {
          "output_type": "execute_result",
          "data": {
            "text/plain": [
              "Int64Index([23067, 43705, 44938, 51391, 49375, 52861, 52860, 51342, 50773,\n",
              "            24932],\n",
              "           dtype='int64')"
            ]
          },
          "metadata": {},
          "execution_count": 20
        }
      ],
      "source": [
        "tail_index = df.table.sort_values().tail(10).index\n",
        "tail_index"
      ]
    },
    {
      "cell_type": "code",
      "execution_count": 21,
      "metadata": {
        "id": "IdKgRrX3oARo",
        "outputId": "99e902bb-c40a-4176-e8d1-d4758e6d327b",
        "colab": {
          "base_uri": "https://localhost:8080/",
          "height": 363
        }
      },
      "outputs": [
        {
          "output_type": "execute_result",
          "data": {
            "text/plain": [
              "       carat   cut color clarity  depth  table  price     x     y     z\n",
              "23067   1.51  Fair     E     SI1   58.4   70.0  11102  7.55  7.39  4.36\n",
              "43705   0.67  Fair     I     VS2   57.2   70.0   1436  5.82  5.75  3.31\n",
              "44938   0.68  Fair     G     SI1   58.0   71.0   1633  5.85  5.70  3.35\n",
              "51391   0.71  Fair     D     VS2   55.6   73.0   2368  6.01  5.96  3.33\n",
              "49375   0.70  Fair     H     VS1   62.0   73.0   2100  5.65  5.54  3.47\n",
              "52861   0.50  Fair     E     VS2   79.0   73.0   2579  5.21  5.18  4.09\n",
              "52860   0.50  Fair     E     VS2   79.0   73.0   2579  5.21  5.18  4.09\n",
              "51342   0.79  Fair     G     SI1   65.3   76.0   2362  5.52  5.13  3.35\n",
              "50773   0.81  Fair     F     SI2   68.8   79.0   2301  5.26  5.20  3.58\n",
              "24932   2.01  Fair     F     SI1   58.6   95.0  13387  8.32  8.31  4.87"
            ],
            "text/html": [
              "\n",
              "  <div id=\"df-f8d5181c-5a35-4242-8757-1679fcbeaf71\">\n",
              "    <div class=\"colab-df-container\">\n",
              "      <div>\n",
              "<style scoped>\n",
              "    .dataframe tbody tr th:only-of-type {\n",
              "        vertical-align: middle;\n",
              "    }\n",
              "\n",
              "    .dataframe tbody tr th {\n",
              "        vertical-align: top;\n",
              "    }\n",
              "\n",
              "    .dataframe thead th {\n",
              "        text-align: right;\n",
              "    }\n",
              "</style>\n",
              "<table border=\"1\" class=\"dataframe\">\n",
              "  <thead>\n",
              "    <tr style=\"text-align: right;\">\n",
              "      <th></th>\n",
              "      <th>carat</th>\n",
              "      <th>cut</th>\n",
              "      <th>color</th>\n",
              "      <th>clarity</th>\n",
              "      <th>depth</th>\n",
              "      <th>table</th>\n",
              "      <th>price</th>\n",
              "      <th>x</th>\n",
              "      <th>y</th>\n",
              "      <th>z</th>\n",
              "    </tr>\n",
              "  </thead>\n",
              "  <tbody>\n",
              "    <tr>\n",
              "      <th>23067</th>\n",
              "      <td>1.51</td>\n",
              "      <td>Fair</td>\n",
              "      <td>E</td>\n",
              "      <td>SI1</td>\n",
              "      <td>58.4</td>\n",
              "      <td>70.0</td>\n",
              "      <td>11102</td>\n",
              "      <td>7.55</td>\n",
              "      <td>7.39</td>\n",
              "      <td>4.36</td>\n",
              "    </tr>\n",
              "    <tr>\n",
              "      <th>43705</th>\n",
              "      <td>0.67</td>\n",
              "      <td>Fair</td>\n",
              "      <td>I</td>\n",
              "      <td>VS2</td>\n",
              "      <td>57.2</td>\n",
              "      <td>70.0</td>\n",
              "      <td>1436</td>\n",
              "      <td>5.82</td>\n",
              "      <td>5.75</td>\n",
              "      <td>3.31</td>\n",
              "    </tr>\n",
              "    <tr>\n",
              "      <th>44938</th>\n",
              "      <td>0.68</td>\n",
              "      <td>Fair</td>\n",
              "      <td>G</td>\n",
              "      <td>SI1</td>\n",
              "      <td>58.0</td>\n",
              "      <td>71.0</td>\n",
              "      <td>1633</td>\n",
              "      <td>5.85</td>\n",
              "      <td>5.70</td>\n",
              "      <td>3.35</td>\n",
              "    </tr>\n",
              "    <tr>\n",
              "      <th>51391</th>\n",
              "      <td>0.71</td>\n",
              "      <td>Fair</td>\n",
              "      <td>D</td>\n",
              "      <td>VS2</td>\n",
              "      <td>55.6</td>\n",
              "      <td>73.0</td>\n",
              "      <td>2368</td>\n",
              "      <td>6.01</td>\n",
              "      <td>5.96</td>\n",
              "      <td>3.33</td>\n",
              "    </tr>\n",
              "    <tr>\n",
              "      <th>49375</th>\n",
              "      <td>0.70</td>\n",
              "      <td>Fair</td>\n",
              "      <td>H</td>\n",
              "      <td>VS1</td>\n",
              "      <td>62.0</td>\n",
              "      <td>73.0</td>\n",
              "      <td>2100</td>\n",
              "      <td>5.65</td>\n",
              "      <td>5.54</td>\n",
              "      <td>3.47</td>\n",
              "    </tr>\n",
              "    <tr>\n",
              "      <th>52861</th>\n",
              "      <td>0.50</td>\n",
              "      <td>Fair</td>\n",
              "      <td>E</td>\n",
              "      <td>VS2</td>\n",
              "      <td>79.0</td>\n",
              "      <td>73.0</td>\n",
              "      <td>2579</td>\n",
              "      <td>5.21</td>\n",
              "      <td>5.18</td>\n",
              "      <td>4.09</td>\n",
              "    </tr>\n",
              "    <tr>\n",
              "      <th>52860</th>\n",
              "      <td>0.50</td>\n",
              "      <td>Fair</td>\n",
              "      <td>E</td>\n",
              "      <td>VS2</td>\n",
              "      <td>79.0</td>\n",
              "      <td>73.0</td>\n",
              "      <td>2579</td>\n",
              "      <td>5.21</td>\n",
              "      <td>5.18</td>\n",
              "      <td>4.09</td>\n",
              "    </tr>\n",
              "    <tr>\n",
              "      <th>51342</th>\n",
              "      <td>0.79</td>\n",
              "      <td>Fair</td>\n",
              "      <td>G</td>\n",
              "      <td>SI1</td>\n",
              "      <td>65.3</td>\n",
              "      <td>76.0</td>\n",
              "      <td>2362</td>\n",
              "      <td>5.52</td>\n",
              "      <td>5.13</td>\n",
              "      <td>3.35</td>\n",
              "    </tr>\n",
              "    <tr>\n",
              "      <th>50773</th>\n",
              "      <td>0.81</td>\n",
              "      <td>Fair</td>\n",
              "      <td>F</td>\n",
              "      <td>SI2</td>\n",
              "      <td>68.8</td>\n",
              "      <td>79.0</td>\n",
              "      <td>2301</td>\n",
              "      <td>5.26</td>\n",
              "      <td>5.20</td>\n",
              "      <td>3.58</td>\n",
              "    </tr>\n",
              "    <tr>\n",
              "      <th>24932</th>\n",
              "      <td>2.01</td>\n",
              "      <td>Fair</td>\n",
              "      <td>F</td>\n",
              "      <td>SI1</td>\n",
              "      <td>58.6</td>\n",
              "      <td>95.0</td>\n",
              "      <td>13387</td>\n",
              "      <td>8.32</td>\n",
              "      <td>8.31</td>\n",
              "      <td>4.87</td>\n",
              "    </tr>\n",
              "  </tbody>\n",
              "</table>\n",
              "</div>\n",
              "      <button class=\"colab-df-convert\" onclick=\"convertToInteractive('df-f8d5181c-5a35-4242-8757-1679fcbeaf71')\"\n",
              "              title=\"Convert this dataframe to an interactive table.\"\n",
              "              style=\"display:none;\">\n",
              "        \n",
              "  <svg xmlns=\"http://www.w3.org/2000/svg\" height=\"24px\"viewBox=\"0 0 24 24\"\n",
              "       width=\"24px\">\n",
              "    <path d=\"M0 0h24v24H0V0z\" fill=\"none\"/>\n",
              "    <path d=\"M18.56 5.44l.94 2.06.94-2.06 2.06-.94-2.06-.94-.94-2.06-.94 2.06-2.06.94zm-11 1L8.5 8.5l.94-2.06 2.06-.94-2.06-.94L8.5 2.5l-.94 2.06-2.06.94zm10 10l.94 2.06.94-2.06 2.06-.94-2.06-.94-.94-2.06-.94 2.06-2.06.94z\"/><path d=\"M17.41 7.96l-1.37-1.37c-.4-.4-.92-.59-1.43-.59-.52 0-1.04.2-1.43.59L10.3 9.45l-7.72 7.72c-.78.78-.78 2.05 0 2.83L4 21.41c.39.39.9.59 1.41.59.51 0 1.02-.2 1.41-.59l7.78-7.78 2.81-2.81c.8-.78.8-2.07 0-2.86zM5.41 20L4 18.59l7.72-7.72 1.47 1.35L5.41 20z\"/>\n",
              "  </svg>\n",
              "      </button>\n",
              "      \n",
              "  <style>\n",
              "    .colab-df-container {\n",
              "      display:flex;\n",
              "      flex-wrap:wrap;\n",
              "      gap: 12px;\n",
              "    }\n",
              "\n",
              "    .colab-df-convert {\n",
              "      background-color: #E8F0FE;\n",
              "      border: none;\n",
              "      border-radius: 50%;\n",
              "      cursor: pointer;\n",
              "      display: none;\n",
              "      fill: #1967D2;\n",
              "      height: 32px;\n",
              "      padding: 0 0 0 0;\n",
              "      width: 32px;\n",
              "    }\n",
              "\n",
              "    .colab-df-convert:hover {\n",
              "      background-color: #E2EBFA;\n",
              "      box-shadow: 0px 1px 2px rgba(60, 64, 67, 0.3), 0px 1px 3px 1px rgba(60, 64, 67, 0.15);\n",
              "      fill: #174EA6;\n",
              "    }\n",
              "\n",
              "    [theme=dark] .colab-df-convert {\n",
              "      background-color: #3B4455;\n",
              "      fill: #D2E3FC;\n",
              "    }\n",
              "\n",
              "    [theme=dark] .colab-df-convert:hover {\n",
              "      background-color: #434B5C;\n",
              "      box-shadow: 0px 1px 3px 1px rgba(0, 0, 0, 0.15);\n",
              "      filter: drop-shadow(0px 1px 2px rgba(0, 0, 0, 0.3));\n",
              "      fill: #FFFFFF;\n",
              "    }\n",
              "  </style>\n",
              "\n",
              "      <script>\n",
              "        const buttonEl =\n",
              "          document.querySelector('#df-f8d5181c-5a35-4242-8757-1679fcbeaf71 button.colab-df-convert');\n",
              "        buttonEl.style.display =\n",
              "          google.colab.kernel.accessAllowed ? 'block' : 'none';\n",
              "\n",
              "        async function convertToInteractive(key) {\n",
              "          const element = document.querySelector('#df-f8d5181c-5a35-4242-8757-1679fcbeaf71');\n",
              "          const dataTable =\n",
              "            await google.colab.kernel.invokeFunction('convertToInteractive',\n",
              "                                                     [key], {});\n",
              "          if (!dataTable) return;\n",
              "\n",
              "          const docLinkHtml = 'Like what you see? Visit the ' +\n",
              "            '<a target=\"_blank\" href=https://colab.research.google.com/notebooks/data_table.ipynb>data table notebook</a>'\n",
              "            + ' to learn more about interactive tables.';\n",
              "          element.innerHTML = '';\n",
              "          dataTable['output_type'] = 'display_data';\n",
              "          await google.colab.output.renderOutput(dataTable, element);\n",
              "          const docLink = document.createElement('div');\n",
              "          docLink.innerHTML = docLinkHtml;\n",
              "          element.appendChild(docLink);\n",
              "        }\n",
              "      </script>\n",
              "    </div>\n",
              "  </div>\n",
              "  "
            ]
          },
          "metadata": {},
          "execution_count": 21
        }
      ],
      "source": [
        "df.loc[tail_index]"
      ]
    },
    {
      "cell_type": "code",
      "execution_count": null,
      "metadata": {
        "id": "MlFYvAqaoARo"
      },
      "outputs": [],
      "source": [
        ""
      ]
    },
    {
      "cell_type": "markdown",
      "metadata": {
        "id": "NCFNsZEVDyz1"
      },
      "source": [
        "### Detecting Outliers with Tukey's Fences | Tukey's Rule"
      ]
    },
    {
      "cell_type": "markdown",
      "metadata": {
        "id": "6MZF6L2HDyz1"
      },
      "source": [
        "**- First way** of specifying **``Q1 & Q3``** is using the **``.quantile()``** method"
      ]
    },
    {
      "cell_type": "code",
      "execution_count": 24,
      "metadata": {
        "id": "iKK7i5sQoARp"
      },
      "outputs": [],
      "source": [
        "Q1 = df.table.quantile(0.25)"
      ]
    },
    {
      "cell_type": "code",
      "execution_count": 25,
      "metadata": {
        "id": "iyIc-YdXoARp"
      },
      "outputs": [],
      "source": [
        "Q3 = df.table.quantile(0.75)"
      ]
    },
    {
      "cell_type": "code",
      "execution_count": 27,
      "metadata": {
        "id": "qtsS7dzPoARp",
        "outputId": "75a3ba4c-fa18-49dc-c783-9c0688bfbfad",
        "colab": {
          "base_uri": "https://localhost:8080/"
        }
      },
      "outputs": [
        {
          "output_type": "execute_result",
          "data": {
            "text/plain": [
              "3.0"
            ]
          },
          "metadata": {},
          "execution_count": 27
        }
      ],
      "source": [
        "IQR = Q3 - Q1\n",
        "IQR"
      ]
    },
    {
      "cell_type": "code",
      "execution_count": 27,
      "metadata": {
        "id": "9LAlfXywoARp"
      },
      "outputs": [],
      "source": [
        ""
      ]
    },
    {
      "cell_type": "markdown",
      "metadata": {
        "id": "WUIlcKQNDyz2"
      },
      "source": [
        "**- Second way** of specifying **``Q1 & Q3``** is using the **``.describe()``** method"
      ]
    },
    {
      "cell_type": "markdown",
      "source": [
        "**PROCESS of DETECTING OUTLIERS**"
      ],
      "metadata": {
        "id": "LJRx6_6cJUCV"
      }
    },
    {
      "cell_type": "code",
      "execution_count": 28,
      "metadata": {
        "id": "tq_dR6x5oARp",
        "outputId": "beb16c06-c41f-4f7f-90bd-113a71d6f5ed",
        "colab": {
          "base_uri": "https://localhost:8080/"
        }
      },
      "outputs": [
        {
          "output_type": "execute_result",
          "data": {
            "text/plain": [
              "count    53940.000000\n",
              "mean        57.457184\n",
              "std          2.234491\n",
              "min         43.000000\n",
              "25%         56.000000\n",
              "50%         57.000000\n",
              "75%         59.000000\n",
              "max         95.000000\n",
              "Name: table, dtype: float64"
            ]
          },
          "metadata": {},
          "execution_count": 28
        }
      ],
      "source": [
        "df.table.describe()"
      ]
    },
    {
      "cell_type": "code",
      "execution_count": 29,
      "metadata": {
        "id": "NZGV-l9foARp",
        "outputId": "4d9b0ab3-5a4c-416e-f77f-1d456cc62b19",
        "colab": {
          "base_uri": "https://localhost:8080/"
        }
      },
      "outputs": [
        {
          "output_type": "execute_result",
          "data": {
            "text/plain": [
              "3.0"
            ]
          },
          "metadata": {},
          "execution_count": 29
        }
      ],
      "source": [
        "Q1 = df.table.describe().loc[\"25%\"]\n",
        "Q3 = df.table.describe().loc[\"75%\"]\n",
        "IQR = Q3-Q1\n",
        "IQR"
      ]
    },
    {
      "cell_type": "code",
      "execution_count": 31,
      "metadata": {
        "id": "udmth1A8oARq",
        "outputId": "b69e15b9-cf40-4184-e07e-511f8d199f8f",
        "colab": {
          "base_uri": "https://localhost:8080/"
        }
      },
      "outputs": [
        {
          "output_type": "execute_result",
          "data": {
            "text/plain": [
              "(51.5, 63.5)"
            ]
          },
          "metadata": {},
          "execution_count": 31
        }
      ],
      "source": [
        "lower_lim = Q1 - 1.5*IQR\n",
        "upper_lim = Q3 + 1.5*IQR\n",
        "\n",
        "lower_lim, upper_lim"
      ]
    },
    {
      "cell_type": "code",
      "execution_count": 32,
      "metadata": {
        "id": "n-Qm8OL6oARq",
        "outputId": "5b287757-7220-40c3-ad06-84e1ee99d765",
        "colab": {
          "base_uri": "https://localhost:8080/"
        }
      },
      "outputs": [
        {
          "output_type": "execute_result",
          "data": {
            "text/plain": [
              "16"
            ]
          },
          "metadata": {},
          "execution_count": 32
        }
      ],
      "source": [
        "#  find the number of values lower or higher than limits\n",
        "\n",
        "(df.table < lower_lim).sum()"
      ]
    },
    {
      "cell_type": "code",
      "execution_count": 33,
      "metadata": {
        "id": "h2LdsCQZoARq",
        "outputId": "74721e1e-2618-4505-9cc7-155b235affe1",
        "colab": {
          "base_uri": "https://localhost:8080/"
        }
      },
      "outputs": [
        {
          "output_type": "execute_result",
          "data": {
            "text/plain": [
              "589"
            ]
          },
          "metadata": {},
          "execution_count": 33
        }
      ],
      "source": [
        "(df.table > upper_lim).sum()"
      ]
    },
    {
      "cell_type": "code",
      "execution_count": 34,
      "metadata": {
        "id": "gRT1C36ZoARq",
        "outputId": "f1c9c827-d404-4183-a05f-06761ad04c29",
        "colab": {
          "base_uri": "https://localhost:8080/"
        }
      },
      "outputs": [
        {
          "output_type": "execute_result",
          "data": {
            "text/plain": [
              "605"
            ]
          },
          "metadata": {},
          "execution_count": 34
        }
      ],
      "source": [
        "((df.table < lower_lim) | (df.table > upper_lim)).sum()"
      ]
    },
    {
      "cell_type": "code",
      "execution_count": 21,
      "metadata": {
        "id": "WYRhfwUAoARq"
      },
      "outputs": [],
      "source": [
        ""
      ]
    },
    {
      "cell_type": "markdown",
      "metadata": {
        "id": "fPd52z_j98gh"
      },
      "source": [
        "## <p style=\"background-color:#9d4f8c; font-family:newtimeroman; color:#FFF9ED; font-size:175%; text-align:center; border-radius:10px 10px;\">Removing the Outliers</p>\n",
        "\n",
        "<a id=\"3\"></a>\n",
        "<a href=\"#toc\" class=\"btn btn-primary btn-sm\" role=\"button\" aria-pressed=\"true\" \n",
        "style=\"color:blue; background-color:#dfa8e4\" data-toggle=\"popover\">Content</a>"
      ]
    },
    {
      "cell_type": "code",
      "execution_count": 43,
      "metadata": {
        "id": "qn5kSEM3oARr",
        "outputId": "aec4ec4d-923d-4315-a054-456c1dcdff73",
        "colab": {
          "base_uri": "https://localhost:8080/"
        }
      },
      "outputs": [
        {
          "output_type": "execute_result",
          "data": {
            "text/plain": [
              "Int64Index([    2,    91,   145,   219,   227,   239,   296,   314,   356,\n",
              "              359,\n",
              "            ...\n",
              "            53226, 53503, 53542, 53577, 53660, 53695, 53697, 53756, 53757,\n",
              "            53785],\n",
              "           dtype='int64', length=605)"
            ]
          },
          "metadata": {},
          "execution_count": 43
        }
      ],
      "source": [
        "# indices of outlier table values\n",
        "\n",
        "drop_index = df.loc[((df.table < lower_lim) | (df.table > upper_lim))].index\n",
        "drop_index"
      ]
    },
    {
      "cell_type": "code",
      "execution_count": 42,
      "metadata": {
        "id": "3prvP96GoARr",
        "outputId": "621d376b-5316-4078-9b0c-f95228fc2b5c",
        "colab": {
          "base_uri": "https://localhost:8080/"
        }
      },
      "outputs": [
        {
          "output_type": "execute_result",
          "data": {
            "text/plain": [
              "Int64Index([    0,     1,     3,     4,     5,     6,     7,     8,     9,\n",
              "               10,\n",
              "            ...\n",
              "            53930, 53931, 53932, 53933, 53934, 53935, 53936, 53937, 53938,\n",
              "            53939],\n",
              "           dtype='int64', length=53335)"
            ]
          },
          "metadata": {},
          "execution_count": 42
        }
      ],
      "source": [
        "# indices of non-outlier values\n",
        "\n",
        "df.loc[~((df.table < lower_lim) | (df.table > upper_lim))].index"
      ]
    },
    {
      "cell_type": "code",
      "execution_count": 45,
      "metadata": {
        "id": "pP20fNE4oARr",
        "outputId": "5337e969-6a7e-4d3b-b188-f6b8e94db458",
        "colab": {
          "base_uri": "https://localhost:8080/",
          "height": 424
        }
      },
      "outputs": [
        {
          "output_type": "execute_result",
          "data": {
            "text/plain": [
              "       carat        cut color clarity  depth  table  price     x     y     z\n",
              "0       0.23      Ideal     E     SI2   61.5   55.0    326  3.95  3.98  2.43\n",
              "1       0.21    Premium     E     SI1   59.8   61.0    326  3.89  3.84  2.31\n",
              "3       0.29    Premium     I     VS2   62.4   58.0    334  4.20  4.23  2.63\n",
              "4       0.31       Good     J     SI2   63.3   58.0    335  4.34  4.35  2.75\n",
              "5       0.24  Very Good     J    VVS2   62.8   57.0    336  3.94  3.96  2.48\n",
              "...      ...        ...   ...     ...    ...    ...    ...   ...   ...   ...\n",
              "53935   0.72      Ideal     D     SI1   60.8   57.0   2757  5.75  5.76  3.50\n",
              "53936   0.72       Good     D     SI1   63.1   55.0   2757  5.69  5.75  3.61\n",
              "53937   0.70  Very Good     D     SI1   62.8   60.0   2757  5.66  5.68  3.56\n",
              "53938   0.86    Premium     H     SI2   61.0   58.0   2757  6.15  6.12  3.74\n",
              "53939   0.75      Ideal     D     SI2   62.2   55.0   2757  5.83  5.87  3.64\n",
              "\n",
              "[53335 rows x 10 columns]"
            ],
            "text/html": [
              "\n",
              "  <div id=\"df-e171e049-62f9-46a2-ae90-2f09db086d8a\">\n",
              "    <div class=\"colab-df-container\">\n",
              "      <div>\n",
              "<style scoped>\n",
              "    .dataframe tbody tr th:only-of-type {\n",
              "        vertical-align: middle;\n",
              "    }\n",
              "\n",
              "    .dataframe tbody tr th {\n",
              "        vertical-align: top;\n",
              "    }\n",
              "\n",
              "    .dataframe thead th {\n",
              "        text-align: right;\n",
              "    }\n",
              "</style>\n",
              "<table border=\"1\" class=\"dataframe\">\n",
              "  <thead>\n",
              "    <tr style=\"text-align: right;\">\n",
              "      <th></th>\n",
              "      <th>carat</th>\n",
              "      <th>cut</th>\n",
              "      <th>color</th>\n",
              "      <th>clarity</th>\n",
              "      <th>depth</th>\n",
              "      <th>table</th>\n",
              "      <th>price</th>\n",
              "      <th>x</th>\n",
              "      <th>y</th>\n",
              "      <th>z</th>\n",
              "    </tr>\n",
              "  </thead>\n",
              "  <tbody>\n",
              "    <tr>\n",
              "      <th>0</th>\n",
              "      <td>0.23</td>\n",
              "      <td>Ideal</td>\n",
              "      <td>E</td>\n",
              "      <td>SI2</td>\n",
              "      <td>61.5</td>\n",
              "      <td>55.0</td>\n",
              "      <td>326</td>\n",
              "      <td>3.95</td>\n",
              "      <td>3.98</td>\n",
              "      <td>2.43</td>\n",
              "    </tr>\n",
              "    <tr>\n",
              "      <th>1</th>\n",
              "      <td>0.21</td>\n",
              "      <td>Premium</td>\n",
              "      <td>E</td>\n",
              "      <td>SI1</td>\n",
              "      <td>59.8</td>\n",
              "      <td>61.0</td>\n",
              "      <td>326</td>\n",
              "      <td>3.89</td>\n",
              "      <td>3.84</td>\n",
              "      <td>2.31</td>\n",
              "    </tr>\n",
              "    <tr>\n",
              "      <th>3</th>\n",
              "      <td>0.29</td>\n",
              "      <td>Premium</td>\n",
              "      <td>I</td>\n",
              "      <td>VS2</td>\n",
              "      <td>62.4</td>\n",
              "      <td>58.0</td>\n",
              "      <td>334</td>\n",
              "      <td>4.20</td>\n",
              "      <td>4.23</td>\n",
              "      <td>2.63</td>\n",
              "    </tr>\n",
              "    <tr>\n",
              "      <th>4</th>\n",
              "      <td>0.31</td>\n",
              "      <td>Good</td>\n",
              "      <td>J</td>\n",
              "      <td>SI2</td>\n",
              "      <td>63.3</td>\n",
              "      <td>58.0</td>\n",
              "      <td>335</td>\n",
              "      <td>4.34</td>\n",
              "      <td>4.35</td>\n",
              "      <td>2.75</td>\n",
              "    </tr>\n",
              "    <tr>\n",
              "      <th>5</th>\n",
              "      <td>0.24</td>\n",
              "      <td>Very Good</td>\n",
              "      <td>J</td>\n",
              "      <td>VVS2</td>\n",
              "      <td>62.8</td>\n",
              "      <td>57.0</td>\n",
              "      <td>336</td>\n",
              "      <td>3.94</td>\n",
              "      <td>3.96</td>\n",
              "      <td>2.48</td>\n",
              "    </tr>\n",
              "    <tr>\n",
              "      <th>...</th>\n",
              "      <td>...</td>\n",
              "      <td>...</td>\n",
              "      <td>...</td>\n",
              "      <td>...</td>\n",
              "      <td>...</td>\n",
              "      <td>...</td>\n",
              "      <td>...</td>\n",
              "      <td>...</td>\n",
              "      <td>...</td>\n",
              "      <td>...</td>\n",
              "    </tr>\n",
              "    <tr>\n",
              "      <th>53935</th>\n",
              "      <td>0.72</td>\n",
              "      <td>Ideal</td>\n",
              "      <td>D</td>\n",
              "      <td>SI1</td>\n",
              "      <td>60.8</td>\n",
              "      <td>57.0</td>\n",
              "      <td>2757</td>\n",
              "      <td>5.75</td>\n",
              "      <td>5.76</td>\n",
              "      <td>3.50</td>\n",
              "    </tr>\n",
              "    <tr>\n",
              "      <th>53936</th>\n",
              "      <td>0.72</td>\n",
              "      <td>Good</td>\n",
              "      <td>D</td>\n",
              "      <td>SI1</td>\n",
              "      <td>63.1</td>\n",
              "      <td>55.0</td>\n",
              "      <td>2757</td>\n",
              "      <td>5.69</td>\n",
              "      <td>5.75</td>\n",
              "      <td>3.61</td>\n",
              "    </tr>\n",
              "    <tr>\n",
              "      <th>53937</th>\n",
              "      <td>0.70</td>\n",
              "      <td>Very Good</td>\n",
              "      <td>D</td>\n",
              "      <td>SI1</td>\n",
              "      <td>62.8</td>\n",
              "      <td>60.0</td>\n",
              "      <td>2757</td>\n",
              "      <td>5.66</td>\n",
              "      <td>5.68</td>\n",
              "      <td>3.56</td>\n",
              "    </tr>\n",
              "    <tr>\n",
              "      <th>53938</th>\n",
              "      <td>0.86</td>\n",
              "      <td>Premium</td>\n",
              "      <td>H</td>\n",
              "      <td>SI2</td>\n",
              "      <td>61.0</td>\n",
              "      <td>58.0</td>\n",
              "      <td>2757</td>\n",
              "      <td>6.15</td>\n",
              "      <td>6.12</td>\n",
              "      <td>3.74</td>\n",
              "    </tr>\n",
              "    <tr>\n",
              "      <th>53939</th>\n",
              "      <td>0.75</td>\n",
              "      <td>Ideal</td>\n",
              "      <td>D</td>\n",
              "      <td>SI2</td>\n",
              "      <td>62.2</td>\n",
              "      <td>55.0</td>\n",
              "      <td>2757</td>\n",
              "      <td>5.83</td>\n",
              "      <td>5.87</td>\n",
              "      <td>3.64</td>\n",
              "    </tr>\n",
              "  </tbody>\n",
              "</table>\n",
              "<p>53335 rows × 10 columns</p>\n",
              "</div>\n",
              "      <button class=\"colab-df-convert\" onclick=\"convertToInteractive('df-e171e049-62f9-46a2-ae90-2f09db086d8a')\"\n",
              "              title=\"Convert this dataframe to an interactive table.\"\n",
              "              style=\"display:none;\">\n",
              "        \n",
              "  <svg xmlns=\"http://www.w3.org/2000/svg\" height=\"24px\"viewBox=\"0 0 24 24\"\n",
              "       width=\"24px\">\n",
              "    <path d=\"M0 0h24v24H0V0z\" fill=\"none\"/>\n",
              "    <path d=\"M18.56 5.44l.94 2.06.94-2.06 2.06-.94-2.06-.94-.94-2.06-.94 2.06-2.06.94zm-11 1L8.5 8.5l.94-2.06 2.06-.94-2.06-.94L8.5 2.5l-.94 2.06-2.06.94zm10 10l.94 2.06.94-2.06 2.06-.94-2.06-.94-.94-2.06-.94 2.06-2.06.94z\"/><path d=\"M17.41 7.96l-1.37-1.37c-.4-.4-.92-.59-1.43-.59-.52 0-1.04.2-1.43.59L10.3 9.45l-7.72 7.72c-.78.78-.78 2.05 0 2.83L4 21.41c.39.39.9.59 1.41.59.51 0 1.02-.2 1.41-.59l7.78-7.78 2.81-2.81c.8-.78.8-2.07 0-2.86zM5.41 20L4 18.59l7.72-7.72 1.47 1.35L5.41 20z\"/>\n",
              "  </svg>\n",
              "      </button>\n",
              "      \n",
              "  <style>\n",
              "    .colab-df-container {\n",
              "      display:flex;\n",
              "      flex-wrap:wrap;\n",
              "      gap: 12px;\n",
              "    }\n",
              "\n",
              "    .colab-df-convert {\n",
              "      background-color: #E8F0FE;\n",
              "      border: none;\n",
              "      border-radius: 50%;\n",
              "      cursor: pointer;\n",
              "      display: none;\n",
              "      fill: #1967D2;\n",
              "      height: 32px;\n",
              "      padding: 0 0 0 0;\n",
              "      width: 32px;\n",
              "    }\n",
              "\n",
              "    .colab-df-convert:hover {\n",
              "      background-color: #E2EBFA;\n",
              "      box-shadow: 0px 1px 2px rgba(60, 64, 67, 0.3), 0px 1px 3px 1px rgba(60, 64, 67, 0.15);\n",
              "      fill: #174EA6;\n",
              "    }\n",
              "\n",
              "    [theme=dark] .colab-df-convert {\n",
              "      background-color: #3B4455;\n",
              "      fill: #D2E3FC;\n",
              "    }\n",
              "\n",
              "    [theme=dark] .colab-df-convert:hover {\n",
              "      background-color: #434B5C;\n",
              "      box-shadow: 0px 1px 3px 1px rgba(0, 0, 0, 0.15);\n",
              "      filter: drop-shadow(0px 1px 2px rgba(0, 0, 0, 0.3));\n",
              "      fill: #FFFFFF;\n",
              "    }\n",
              "  </style>\n",
              "\n",
              "      <script>\n",
              "        const buttonEl =\n",
              "          document.querySelector('#df-e171e049-62f9-46a2-ae90-2f09db086d8a button.colab-df-convert');\n",
              "        buttonEl.style.display =\n",
              "          google.colab.kernel.accessAllowed ? 'block' : 'none';\n",
              "\n",
              "        async function convertToInteractive(key) {\n",
              "          const element = document.querySelector('#df-e171e049-62f9-46a2-ae90-2f09db086d8a');\n",
              "          const dataTable =\n",
              "            await google.colab.kernel.invokeFunction('convertToInteractive',\n",
              "                                                     [key], {});\n",
              "          if (!dataTable) return;\n",
              "\n",
              "          const docLinkHtml = 'Like what you see? Visit the ' +\n",
              "            '<a target=\"_blank\" href=https://colab.research.google.com/notebooks/data_table.ipynb>data table notebook</a>'\n",
              "            + ' to learn more about interactive tables.';\n",
              "          element.innerHTML = '';\n",
              "          dataTable['output_type'] = 'display_data';\n",
              "          await google.colab.output.renderOutput(dataTable, element);\n",
              "          const docLink = document.createElement('div');\n",
              "          docLink.innerHTML = docLinkHtml;\n",
              "          element.appendChild(docLink);\n",
              "        }\n",
              "      </script>\n",
              "    </div>\n",
              "  </div>\n",
              "  "
            ]
          },
          "metadata": {},
          "execution_count": 45
        }
      ],
      "source": [
        "# without the outlier values\n",
        "\n",
        "df_cleaned = df.loc[~((df.table < lower_lim) | (df.table > upper_lim))]\n",
        "df_cleaned"
      ]
    },
    {
      "cell_type": "code",
      "execution_count": 44,
      "metadata": {
        "id": "Jep44phEoARr",
        "outputId": "1d99b5d4-18fc-4f63-a9e5-bd0649d105eb",
        "colab": {
          "base_uri": "https://localhost:8080/",
          "height": 424
        }
      },
      "outputs": [
        {
          "output_type": "execute_result",
          "data": {
            "text/plain": [
              "       carat        cut color clarity  depth  table  price     x     y     z\n",
              "0       0.23      Ideal     E     SI2   61.5   55.0    326  3.95  3.98  2.43\n",
              "1       0.21    Premium     E     SI1   59.8   61.0    326  3.89  3.84  2.31\n",
              "3       0.29    Premium     I     VS2   62.4   58.0    334  4.20  4.23  2.63\n",
              "4       0.31       Good     J     SI2   63.3   58.0    335  4.34  4.35  2.75\n",
              "5       0.24  Very Good     J    VVS2   62.8   57.0    336  3.94  3.96  2.48\n",
              "...      ...        ...   ...     ...    ...    ...    ...   ...   ...   ...\n",
              "53935   0.72      Ideal     D     SI1   60.8   57.0   2757  5.75  5.76  3.50\n",
              "53936   0.72       Good     D     SI1   63.1   55.0   2757  5.69  5.75  3.61\n",
              "53937   0.70  Very Good     D     SI1   62.8   60.0   2757  5.66  5.68  3.56\n",
              "53938   0.86    Premium     H     SI2   61.0   58.0   2757  6.15  6.12  3.74\n",
              "53939   0.75      Ideal     D     SI2   62.2   55.0   2757  5.83  5.87  3.64\n",
              "\n",
              "[53335 rows x 10 columns]"
            ],
            "text/html": [
              "\n",
              "  <div id=\"df-56168d86-1f63-4be2-bccb-1cc9b7345fb4\">\n",
              "    <div class=\"colab-df-container\">\n",
              "      <div>\n",
              "<style scoped>\n",
              "    .dataframe tbody tr th:only-of-type {\n",
              "        vertical-align: middle;\n",
              "    }\n",
              "\n",
              "    .dataframe tbody tr th {\n",
              "        vertical-align: top;\n",
              "    }\n",
              "\n",
              "    .dataframe thead th {\n",
              "        text-align: right;\n",
              "    }\n",
              "</style>\n",
              "<table border=\"1\" class=\"dataframe\">\n",
              "  <thead>\n",
              "    <tr style=\"text-align: right;\">\n",
              "      <th></th>\n",
              "      <th>carat</th>\n",
              "      <th>cut</th>\n",
              "      <th>color</th>\n",
              "      <th>clarity</th>\n",
              "      <th>depth</th>\n",
              "      <th>table</th>\n",
              "      <th>price</th>\n",
              "      <th>x</th>\n",
              "      <th>y</th>\n",
              "      <th>z</th>\n",
              "    </tr>\n",
              "  </thead>\n",
              "  <tbody>\n",
              "    <tr>\n",
              "      <th>0</th>\n",
              "      <td>0.23</td>\n",
              "      <td>Ideal</td>\n",
              "      <td>E</td>\n",
              "      <td>SI2</td>\n",
              "      <td>61.5</td>\n",
              "      <td>55.0</td>\n",
              "      <td>326</td>\n",
              "      <td>3.95</td>\n",
              "      <td>3.98</td>\n",
              "      <td>2.43</td>\n",
              "    </tr>\n",
              "    <tr>\n",
              "      <th>1</th>\n",
              "      <td>0.21</td>\n",
              "      <td>Premium</td>\n",
              "      <td>E</td>\n",
              "      <td>SI1</td>\n",
              "      <td>59.8</td>\n",
              "      <td>61.0</td>\n",
              "      <td>326</td>\n",
              "      <td>3.89</td>\n",
              "      <td>3.84</td>\n",
              "      <td>2.31</td>\n",
              "    </tr>\n",
              "    <tr>\n",
              "      <th>3</th>\n",
              "      <td>0.29</td>\n",
              "      <td>Premium</td>\n",
              "      <td>I</td>\n",
              "      <td>VS2</td>\n",
              "      <td>62.4</td>\n",
              "      <td>58.0</td>\n",
              "      <td>334</td>\n",
              "      <td>4.20</td>\n",
              "      <td>4.23</td>\n",
              "      <td>2.63</td>\n",
              "    </tr>\n",
              "    <tr>\n",
              "      <th>4</th>\n",
              "      <td>0.31</td>\n",
              "      <td>Good</td>\n",
              "      <td>J</td>\n",
              "      <td>SI2</td>\n",
              "      <td>63.3</td>\n",
              "      <td>58.0</td>\n",
              "      <td>335</td>\n",
              "      <td>4.34</td>\n",
              "      <td>4.35</td>\n",
              "      <td>2.75</td>\n",
              "    </tr>\n",
              "    <tr>\n",
              "      <th>5</th>\n",
              "      <td>0.24</td>\n",
              "      <td>Very Good</td>\n",
              "      <td>J</td>\n",
              "      <td>VVS2</td>\n",
              "      <td>62.8</td>\n",
              "      <td>57.0</td>\n",
              "      <td>336</td>\n",
              "      <td>3.94</td>\n",
              "      <td>3.96</td>\n",
              "      <td>2.48</td>\n",
              "    </tr>\n",
              "    <tr>\n",
              "      <th>...</th>\n",
              "      <td>...</td>\n",
              "      <td>...</td>\n",
              "      <td>...</td>\n",
              "      <td>...</td>\n",
              "      <td>...</td>\n",
              "      <td>...</td>\n",
              "      <td>...</td>\n",
              "      <td>...</td>\n",
              "      <td>...</td>\n",
              "      <td>...</td>\n",
              "    </tr>\n",
              "    <tr>\n",
              "      <th>53935</th>\n",
              "      <td>0.72</td>\n",
              "      <td>Ideal</td>\n",
              "      <td>D</td>\n",
              "      <td>SI1</td>\n",
              "      <td>60.8</td>\n",
              "      <td>57.0</td>\n",
              "      <td>2757</td>\n",
              "      <td>5.75</td>\n",
              "      <td>5.76</td>\n",
              "      <td>3.50</td>\n",
              "    </tr>\n",
              "    <tr>\n",
              "      <th>53936</th>\n",
              "      <td>0.72</td>\n",
              "      <td>Good</td>\n",
              "      <td>D</td>\n",
              "      <td>SI1</td>\n",
              "      <td>63.1</td>\n",
              "      <td>55.0</td>\n",
              "      <td>2757</td>\n",
              "      <td>5.69</td>\n",
              "      <td>5.75</td>\n",
              "      <td>3.61</td>\n",
              "    </tr>\n",
              "    <tr>\n",
              "      <th>53937</th>\n",
              "      <td>0.70</td>\n",
              "      <td>Very Good</td>\n",
              "      <td>D</td>\n",
              "      <td>SI1</td>\n",
              "      <td>62.8</td>\n",
              "      <td>60.0</td>\n",
              "      <td>2757</td>\n",
              "      <td>5.66</td>\n",
              "      <td>5.68</td>\n",
              "      <td>3.56</td>\n",
              "    </tr>\n",
              "    <tr>\n",
              "      <th>53938</th>\n",
              "      <td>0.86</td>\n",
              "      <td>Premium</td>\n",
              "      <td>H</td>\n",
              "      <td>SI2</td>\n",
              "      <td>61.0</td>\n",
              "      <td>58.0</td>\n",
              "      <td>2757</td>\n",
              "      <td>6.15</td>\n",
              "      <td>6.12</td>\n",
              "      <td>3.74</td>\n",
              "    </tr>\n",
              "    <tr>\n",
              "      <th>53939</th>\n",
              "      <td>0.75</td>\n",
              "      <td>Ideal</td>\n",
              "      <td>D</td>\n",
              "      <td>SI2</td>\n",
              "      <td>62.2</td>\n",
              "      <td>55.0</td>\n",
              "      <td>2757</td>\n",
              "      <td>5.83</td>\n",
              "      <td>5.87</td>\n",
              "      <td>3.64</td>\n",
              "    </tr>\n",
              "  </tbody>\n",
              "</table>\n",
              "<p>53335 rows × 10 columns</p>\n",
              "</div>\n",
              "      <button class=\"colab-df-convert\" onclick=\"convertToInteractive('df-56168d86-1f63-4be2-bccb-1cc9b7345fb4')\"\n",
              "              title=\"Convert this dataframe to an interactive table.\"\n",
              "              style=\"display:none;\">\n",
              "        \n",
              "  <svg xmlns=\"http://www.w3.org/2000/svg\" height=\"24px\"viewBox=\"0 0 24 24\"\n",
              "       width=\"24px\">\n",
              "    <path d=\"M0 0h24v24H0V0z\" fill=\"none\"/>\n",
              "    <path d=\"M18.56 5.44l.94 2.06.94-2.06 2.06-.94-2.06-.94-.94-2.06-.94 2.06-2.06.94zm-11 1L8.5 8.5l.94-2.06 2.06-.94-2.06-.94L8.5 2.5l-.94 2.06-2.06.94zm10 10l.94 2.06.94-2.06 2.06-.94-2.06-.94-.94-2.06-.94 2.06-2.06.94z\"/><path d=\"M17.41 7.96l-1.37-1.37c-.4-.4-.92-.59-1.43-.59-.52 0-1.04.2-1.43.59L10.3 9.45l-7.72 7.72c-.78.78-.78 2.05 0 2.83L4 21.41c.39.39.9.59 1.41.59.51 0 1.02-.2 1.41-.59l7.78-7.78 2.81-2.81c.8-.78.8-2.07 0-2.86zM5.41 20L4 18.59l7.72-7.72 1.47 1.35L5.41 20z\"/>\n",
              "  </svg>\n",
              "      </button>\n",
              "      \n",
              "  <style>\n",
              "    .colab-df-container {\n",
              "      display:flex;\n",
              "      flex-wrap:wrap;\n",
              "      gap: 12px;\n",
              "    }\n",
              "\n",
              "    .colab-df-convert {\n",
              "      background-color: #E8F0FE;\n",
              "      border: none;\n",
              "      border-radius: 50%;\n",
              "      cursor: pointer;\n",
              "      display: none;\n",
              "      fill: #1967D2;\n",
              "      height: 32px;\n",
              "      padding: 0 0 0 0;\n",
              "      width: 32px;\n",
              "    }\n",
              "\n",
              "    .colab-df-convert:hover {\n",
              "      background-color: #E2EBFA;\n",
              "      box-shadow: 0px 1px 2px rgba(60, 64, 67, 0.3), 0px 1px 3px 1px rgba(60, 64, 67, 0.15);\n",
              "      fill: #174EA6;\n",
              "    }\n",
              "\n",
              "    [theme=dark] .colab-df-convert {\n",
              "      background-color: #3B4455;\n",
              "      fill: #D2E3FC;\n",
              "    }\n",
              "\n",
              "    [theme=dark] .colab-df-convert:hover {\n",
              "      background-color: #434B5C;\n",
              "      box-shadow: 0px 1px 3px 1px rgba(0, 0, 0, 0.15);\n",
              "      filter: drop-shadow(0px 1px 2px rgba(0, 0, 0, 0.3));\n",
              "      fill: #FFFFFF;\n",
              "    }\n",
              "  </style>\n",
              "\n",
              "      <script>\n",
              "        const buttonEl =\n",
              "          document.querySelector('#df-56168d86-1f63-4be2-bccb-1cc9b7345fb4 button.colab-df-convert');\n",
              "        buttonEl.style.display =\n",
              "          google.colab.kernel.accessAllowed ? 'block' : 'none';\n",
              "\n",
              "        async function convertToInteractive(key) {\n",
              "          const element = document.querySelector('#df-56168d86-1f63-4be2-bccb-1cc9b7345fb4');\n",
              "          const dataTable =\n",
              "            await google.colab.kernel.invokeFunction('convertToInteractive',\n",
              "                                                     [key], {});\n",
              "          if (!dataTable) return;\n",
              "\n",
              "          const docLinkHtml = 'Like what you see? Visit the ' +\n",
              "            '<a target=\"_blank\" href=https://colab.research.google.com/notebooks/data_table.ipynb>data table notebook</a>'\n",
              "            + ' to learn more about interactive tables.';\n",
              "          element.innerHTML = '';\n",
              "          dataTable['output_type'] = 'display_data';\n",
              "          await google.colab.output.renderOutput(dataTable, element);\n",
              "          const docLink = document.createElement('div');\n",
              "          docLink.innerHTML = docLinkHtml;\n",
              "          element.appendChild(docLink);\n",
              "        }\n",
              "      </script>\n",
              "    </div>\n",
              "  </div>\n",
              "  "
            ]
          },
          "metadata": {},
          "execution_count": 44
        }
      ],
      "source": [
        "# dropping indices\n",
        "\n",
        "df.drop(drop_index, axis=0)"
      ]
    },
    {
      "cell_type": "code",
      "execution_count": 47,
      "metadata": {
        "id": "DmSZ3i1yoARr",
        "outputId": "1befd0d7-23f1-4767-fb41-e9d9370a0b5c",
        "colab": {
          "base_uri": "https://localhost:8080/",
          "height": 515
        }
      },
      "outputs": [
        {
          "output_type": "execute_result",
          "data": {
            "text/plain": [
              "<matplotlib.axes._subplots.AxesSubplot at 0x7f48a8ec6650>"
            ]
          },
          "metadata": {},
          "execution_count": 47
        },
        {
          "output_type": "display_data",
          "data": {
            "text/plain": [
              "<Figure size 1080x576 with 1 Axes>"
            ],
            "image/png": "[encoded data removed]"
          },
          "metadata": {
            "needs_background": "light"
          }
        }
      ],
      "source": [
        "# outlierlar remove edildiktan sonraki hali\n",
        "\n",
        "plt.figure(figsize=(15, 8))\n",
        "sns.boxplot(x=df_cleaned.table)"
      ]
    },
    {
      "cell_type": "code",
      "execution_count": 50,
      "metadata": {
        "id": "ZwzUfYhyoARs",
        "outputId": "3e2413b8-d123-4592-b296-a818aee4f7d2",
        "colab": {
          "base_uri": "https://localhost:8080/",
          "height": 297
        }
      },
      "outputs": [
        {
          "output_type": "execute_result",
          "data": {
            "text/plain": [
              "<matplotlib.axes._subplots.AxesSubplot at 0x7f48a8df1f90>"
            ]
          },
          "metadata": {},
          "execution_count": 50
        },
        {
          "output_type": "display_data",
          "data": {
            "text/plain": [
              "<Figure size 432x288 with 1 Axes>"
            ],
            "image/png": "[encoded data removed]"
          },
          "metadata": {
            "needs_background": "light"
          }
        }
      ],
      "source": [
        "sns.histplot(df_cleaned.table, bins=10, kde=False)"
      ]
    },
    {
      "cell_type": "code",
      "execution_count": 53,
      "metadata": {
        "id": "hg6qU0fEoARs",
        "outputId": "a3a75522-eae1-47c0-af60-ccac5997684c",
        "colab": {
          "base_uri": "https://localhost:8080/"
        }
      },
      "outputs": [
        {
          "output_type": "execute_result",
          "data": {
            "text/plain": [
              "count    53335.000000\n",
              "mean        57.373404\n",
              "std          2.074349\n",
              "min         51.600000\n",
              "25%         56.000000\n",
              "50%         57.000000\n",
              "75%         59.000000\n",
              "max         63.500000\n",
              "Name: table, dtype: float64"
            ]
          },
          "metadata": {},
          "execution_count": 53
        }
      ],
      "source": [
        "# compared to the previous data, count, mean, min ve max degisti. \n",
        "#  quartilelar cok degismedi, cunku o degerlerde cok fazla data var. 50000 data genelde 56-57-59 araliklarinda..\n",
        "\n",
        "df_cleaned.table.describe()"
      ]
    },
    {
      "cell_type": "code",
      "execution_count": 52,
      "metadata": {
        "id": "GZi7Vo48oARs",
        "outputId": "a4891507-188b-4f01-d689-71d90669cc6d",
        "colab": {
          "base_uri": "https://localhost:8080/"
        }
      },
      "outputs": [
        {
          "output_type": "execute_result",
          "data": {
            "text/plain": [
              "count    53940.000000\n",
              "mean        57.457184\n",
              "std          2.234491\n",
              "min         43.000000\n",
              "25%         56.000000\n",
              "50%         57.000000\n",
              "75%         59.000000\n",
              "max         95.000000\n",
              "Name: table, dtype: float64"
            ]
          },
          "metadata": {},
          "execution_count": 52
        }
      ],
      "source": [
        "df.table.describe"
      ]
    },
    {
      "cell_type": "code",
      "execution_count": 58,
      "metadata": {
        "id": "MWmumQ_roARs",
        "outputId": "b038e9f6-0aed-497e-e914-8006b838abc0",
        "colab": {
          "base_uri": "https://localhost:8080/",
          "height": 300
        }
      },
      "outputs": [
        {
          "output_type": "execute_result",
          "data": {
            "text/plain": [
              "              First        Second\n",
              "count  53940.000000  53335.000000\n",
              "mean      57.457184     57.373404\n",
              "std        2.234491      2.074349\n",
              "min       43.000000     51.600000\n",
              "25%       56.000000     56.000000\n",
              "50%       57.000000     57.000000\n",
              "75%       59.000000     59.000000\n",
              "max       95.000000     63.500000"
            ],
            "text/html": [
              "\n",
              "  <div id=\"df-7c554cb4-893e-42a9-8288-f3e7c9f214b8\">\n",
              "    <div class=\"colab-df-container\">\n",
              "      <div>\n",
              "<style scoped>\n",
              "    .dataframe tbody tr th:only-of-type {\n",
              "        vertical-align: middle;\n",
              "    }\n",
              "\n",
              "    .dataframe tbody tr th {\n",
              "        vertical-align: top;\n",
              "    }\n",
              "\n",
              "    .dataframe thead th {\n",
              "        text-align: right;\n",
              "    }\n",
              "</style>\n",
              "<table border=\"1\" class=\"dataframe\">\n",
              "  <thead>\n",
              "    <tr style=\"text-align: right;\">\n",
              "      <th></th>\n",
              "      <th>First</th>\n",
              "      <th>Second</th>\n",
              "    </tr>\n",
              "  </thead>\n",
              "  <tbody>\n",
              "    <tr>\n",
              "      <th>count</th>\n",
              "      <td>53940.000000</td>\n",
              "      <td>53335.000000</td>\n",
              "    </tr>\n",
              "    <tr>\n",
              "      <th>mean</th>\n",
              "      <td>57.457184</td>\n",
              "      <td>57.373404</td>\n",
              "    </tr>\n",
              "    <tr>\n",
              "      <th>std</th>\n",
              "      <td>2.234491</td>\n",
              "      <td>2.074349</td>\n",
              "    </tr>\n",
              "    <tr>\n",
              "      <th>min</th>\n",
              "      <td>43.000000</td>\n",
              "      <td>51.600000</td>\n",
              "    </tr>\n",
              "    <tr>\n",
              "      <th>25%</th>\n",
              "      <td>56.000000</td>\n",
              "      <td>56.000000</td>\n",
              "    </tr>\n",
              "    <tr>\n",
              "      <th>50%</th>\n",
              "      <td>57.000000</td>\n",
              "      <td>57.000000</td>\n",
              "    </tr>\n",
              "    <tr>\n",
              "      <th>75%</th>\n",
              "      <td>59.000000</td>\n",
              "      <td>59.000000</td>\n",
              "    </tr>\n",
              "    <tr>\n",
              "      <th>max</th>\n",
              "      <td>95.000000</td>\n",
              "      <td>63.500000</td>\n",
              "    </tr>\n",
              "  </tbody>\n",
              "</table>\n",
              "</div>\n",
              "      <button class=\"colab-df-convert\" onclick=\"convertToInteractive('df-7c554cb4-893e-42a9-8288-f3e7c9f214b8')\"\n",
              "              title=\"Convert this dataframe to an interactive table.\"\n",
              "              style=\"display:none;\">\n",
              "        \n",
              "  <svg xmlns=\"http://www.w3.org/2000/svg\" height=\"24px\"viewBox=\"0 0 24 24\"\n",
              "       width=\"24px\">\n",
              "    <path d=\"M0 0h24v24H0V0z\" fill=\"none\"/>\n",
              "    <path d=\"M18.56 5.44l.94 2.06.94-2.06 2.06-.94-2.06-.94-.94-2.06-.94 2.06-2.06.94zm-11 1L8.5 8.5l.94-2.06 2.06-.94-2.06-.94L8.5 2.5l-.94 2.06-2.06.94zm10 10l.94 2.06.94-2.06 2.06-.94-2.06-.94-.94-2.06-.94 2.06-2.06.94z\"/><path d=\"M17.41 7.96l-1.37-1.37c-.4-.4-.92-.59-1.43-.59-.52 0-1.04.2-1.43.59L10.3 9.45l-7.72 7.72c-.78.78-.78 2.05 0 2.83L4 21.41c.39.39.9.59 1.41.59.51 0 1.02-.2 1.41-.59l7.78-7.78 2.81-2.81c.8-.78.8-2.07 0-2.86zM5.41 20L4 18.59l7.72-7.72 1.47 1.35L5.41 20z\"/>\n",
              "  </svg>\n",
              "      </button>\n",
              "      \n",
              "  <style>\n",
              "    .colab-df-container {\n",
              "      display:flex;\n",
              "      flex-wrap:wrap;\n",
              "      gap: 12px;\n",
              "    }\n",
              "\n",
              "    .colab-df-convert {\n",
              "      background-color: #E8F0FE;\n",
              "      border: none;\n",
              "      border-radius: 50%;\n",
              "      cursor: pointer;\n",
              "      display: none;\n",
              "      fill: #1967D2;\n",
              "      height: 32px;\n",
              "      padding: 0 0 0 0;\n",
              "      width: 32px;\n",
              "    }\n",
              "\n",
              "    .colab-df-convert:hover {\n",
              "      background-color: #E2EBFA;\n",
              "      box-shadow: 0px 1px 2px rgba(60, 64, 67, 0.3), 0px 1px 3px 1px rgba(60, 64, 67, 0.15);\n",
              "      fill: #174EA6;\n",
              "    }\n",
              "\n",
              "    [theme=dark] .colab-df-convert {\n",
              "      background-color: #3B4455;\n",
              "      fill: #D2E3FC;\n",
              "    }\n",
              "\n",
              "    [theme=dark] .colab-df-convert:hover {\n",
              "      background-color: #434B5C;\n",
              "      box-shadow: 0px 1px 3px 1px rgba(0, 0, 0, 0.15);\n",
              "      filter: drop-shadow(0px 1px 2px rgba(0, 0, 0, 0.3));\n",
              "      fill: #FFFFFF;\n",
              "    }\n",
              "  </style>\n",
              "\n",
              "      <script>\n",
              "        const buttonEl =\n",
              "          document.querySelector('#df-7c554cb4-893e-42a9-8288-f3e7c9f214b8 button.colab-df-convert');\n",
              "        buttonEl.style.display =\n",
              "          google.colab.kernel.accessAllowed ? 'block' : 'none';\n",
              "\n",
              "        async function convertToInteractive(key) {\n",
              "          const element = document.querySelector('#df-7c554cb4-893e-42a9-8288-f3e7c9f214b8');\n",
              "          const dataTable =\n",
              "            await google.colab.kernel.invokeFunction('convertToInteractive',\n",
              "                                                     [key], {});\n",
              "          if (!dataTable) return;\n",
              "\n",
              "          const docLinkHtml = 'Like what you see? Visit the ' +\n",
              "            '<a target=\"_blank\" href=https://colab.research.google.com/notebooks/data_table.ipynb>data table notebook</a>'\n",
              "            + ' to learn more about interactive tables.';\n",
              "          element.innerHTML = '';\n",
              "          dataTable['output_type'] = 'display_data';\n",
              "          await google.colab.output.renderOutput(dataTable, element);\n",
              "          const docLink = document.createElement('div');\n",
              "          docLink.innerHTML = docLinkHtml;\n",
              "          element.appendChild(docLink);\n",
              "        }\n",
              "      </script>\n",
              "    </div>\n",
              "  </div>\n",
              "  "
            ]
          },
          "metadata": {},
          "execution_count": 58
        }
      ],
      "source": [
        "compare = pd.DataFrame(df.table.describe().values, index = df.table.describe().index, columns = [\"First\"])\n",
        "compare[\"Second\"] = df_cleaned.table.describe().values\n",
        "compare"
      ]
    },
    {
      "cell_type": "code",
      "execution_count": 69,
      "metadata": {
        "id": "DOa2k-v-oARs",
        "outputId": "32c37c67-1600-4a60-f85f-de8be2bd445e",
        "colab": {
          "base_uri": "https://localhost:8080/",
          "height": 300
        }
      },
      "outputs": [
        {
          "output_type": "execute_result",
          "data": {
            "text/plain": [
              "              First         Clean\n",
              "count  53940.000000  53335.000000\n",
              "mean      57.457184     57.373404\n",
              "std        2.234491      2.074349\n",
              "min       43.000000     51.600000\n",
              "25%       56.000000     56.000000\n",
              "50%       57.000000     57.000000\n",
              "75%       59.000000     59.000000\n",
              "max       95.000000     63.500000"
            ],
            "text/html": [
              "\n",
              "  <div id=\"df-03564313-297f-4d65-b755-077d6979900d\">\n",
              "    <div class=\"colab-df-container\">\n",
              "      <div>\n",
              "<style scoped>\n",
              "    .dataframe tbody tr th:only-of-type {\n",
              "        vertical-align: middle;\n",
              "    }\n",
              "\n",
              "    .dataframe tbody tr th {\n",
              "        vertical-align: top;\n",
              "    }\n",
              "\n",
              "    .dataframe thead th {\n",
              "        text-align: right;\n",
              "    }\n",
              "</style>\n",
              "<table border=\"1\" class=\"dataframe\">\n",
              "  <thead>\n",
              "    <tr style=\"text-align: right;\">\n",
              "      <th></th>\n",
              "      <th>First</th>\n",
              "      <th>Clean</th>\n",
              "    </tr>\n",
              "  </thead>\n",
              "  <tbody>\n",
              "    <tr>\n",
              "      <th>count</th>\n",
              "      <td>53940.000000</td>\n",
              "      <td>53335.000000</td>\n",
              "    </tr>\n",
              "    <tr>\n",
              "      <th>mean</th>\n",
              "      <td>57.457184</td>\n",
              "      <td>57.373404</td>\n",
              "    </tr>\n",
              "    <tr>\n",
              "      <th>std</th>\n",
              "      <td>2.234491</td>\n",
              "      <td>2.074349</td>\n",
              "    </tr>\n",
              "    <tr>\n",
              "      <th>min</th>\n",
              "      <td>43.000000</td>\n",
              "      <td>51.600000</td>\n",
              "    </tr>\n",
              "    <tr>\n",
              "      <th>25%</th>\n",
              "      <td>56.000000</td>\n",
              "      <td>56.000000</td>\n",
              "    </tr>\n",
              "    <tr>\n",
              "      <th>50%</th>\n",
              "      <td>57.000000</td>\n",
              "      <td>57.000000</td>\n",
              "    </tr>\n",
              "    <tr>\n",
              "      <th>75%</th>\n",
              "      <td>59.000000</td>\n",
              "      <td>59.000000</td>\n",
              "    </tr>\n",
              "    <tr>\n",
              "      <th>max</th>\n",
              "      <td>95.000000</td>\n",
              "      <td>63.500000</td>\n",
              "    </tr>\n",
              "  </tbody>\n",
              "</table>\n",
              "</div>\n",
              "      <button class=\"colab-df-convert\" onclick=\"convertToInteractive('df-03564313-297f-4d65-b755-077d6979900d')\"\n",
              "              title=\"Convert this dataframe to an interactive table.\"\n",
              "              style=\"display:none;\">\n",
              "        \n",
              "  <svg xmlns=\"http://www.w3.org/2000/svg\" height=\"24px\"viewBox=\"0 0 24 24\"\n",
              "       width=\"24px\">\n",
              "    <path d=\"M0 0h24v24H0V0z\" fill=\"none\"/>\n",
              "    <path d=\"M18.56 5.44l.94 2.06.94-2.06 2.06-.94-2.06-.94-.94-2.06-.94 2.06-2.06.94zm-11 1L8.5 8.5l.94-2.06 2.06-.94-2.06-.94L8.5 2.5l-.94 2.06-2.06.94zm10 10l.94 2.06.94-2.06 2.06-.94-2.06-.94-.94-2.06-.94 2.06-2.06.94z\"/><path d=\"M17.41 7.96l-1.37-1.37c-.4-.4-.92-.59-1.43-.59-.52 0-1.04.2-1.43.59L10.3 9.45l-7.72 7.72c-.78.78-.78 2.05 0 2.83L4 21.41c.39.39.9.59 1.41.59.51 0 1.02-.2 1.41-.59l7.78-7.78 2.81-2.81c.8-.78.8-2.07 0-2.86zM5.41 20L4 18.59l7.72-7.72 1.47 1.35L5.41 20z\"/>\n",
              "  </svg>\n",
              "      </button>\n",
              "      \n",
              "  <style>\n",
              "    .colab-df-container {\n",
              "      display:flex;\n",
              "      flex-wrap:wrap;\n",
              "      gap: 12px;\n",
              "    }\n",
              "\n",
              "    .colab-df-convert {\n",
              "      background-color: #E8F0FE;\n",
              "      border: none;\n",
              "      border-radius: 50%;\n",
              "      cursor: pointer;\n",
              "      display: none;\n",
              "      fill: #1967D2;\n",
              "      height: 32px;\n",
              "      padding: 0 0 0 0;\n",
              "      width: 32px;\n",
              "    }\n",
              "\n",
              "    .colab-df-convert:hover {\n",
              "      background-color: #E2EBFA;\n",
              "      box-shadow: 0px 1px 2px rgba(60, 64, 67, 0.3), 0px 1px 3px 1px rgba(60, 64, 67, 0.15);\n",
              "      fill: #174EA6;\n",
              "    }\n",
              "\n",
              "    [theme=dark] .colab-df-convert {\n",
              "      background-color: #3B4455;\n",
              "      fill: #D2E3FC;\n",
              "    }\n",
              "\n",
              "    [theme=dark] .colab-df-convert:hover {\n",
              "      background-color: #434B5C;\n",
              "      box-shadow: 0px 1px 3px 1px rgba(0, 0, 0, 0.15);\n",
              "      filter: drop-shadow(0px 1px 2px rgba(0, 0, 0, 0.3));\n",
              "      fill: #FFFFFF;\n",
              "    }\n",
              "  </style>\n",
              "\n",
              "      <script>\n",
              "        const buttonEl =\n",
              "          document.querySelector('#df-03564313-297f-4d65-b755-077d6979900d button.colab-df-convert');\n",
              "        buttonEl.style.display =\n",
              "          google.colab.kernel.accessAllowed ? 'block' : 'none';\n",
              "\n",
              "        async function convertToInteractive(key) {\n",
              "          const element = document.querySelector('#df-03564313-297f-4d65-b755-077d6979900d');\n",
              "          const dataTable =\n",
              "            await google.colab.kernel.invokeFunction('convertToInteractive',\n",
              "                                                     [key], {});\n",
              "          if (!dataTable) return;\n",
              "\n",
              "          const docLinkHtml = 'Like what you see? Visit the ' +\n",
              "            '<a target=\"_blank\" href=https://colab.research.google.com/notebooks/data_table.ipynb>data table notebook</a>'\n",
              "            + ' to learn more about interactive tables.';\n",
              "          element.innerHTML = '';\n",
              "          dataTable['output_type'] = 'display_data';\n",
              "          await google.colab.output.renderOutput(dataTable, element);\n",
              "          const docLink = document.createElement('div');\n",
              "          docLink.innerHTML = docLinkHtml;\n",
              "          element.appendChild(docLink);\n",
              "        }\n",
              "      </script>\n",
              "    </div>\n",
              "  </div>\n",
              "  "
            ]
          },
          "metadata": {},
          "execution_count": 69
        }
      ],
      "source": [
        "# shorter version\n",
        "\n",
        "pd.DataFrame([df.table.describe(), df_cleaned.table.describe()], index=[\"First\", \"Clean\"]).T"
      ]
    },
    {
      "cell_type": "code",
      "execution_count": null,
      "metadata": {
        "id": "1B2e5en_oARs"
      },
      "outputs": [],
      "source": [
        ""
      ]
    },
    {
      "cell_type": "markdown",
      "metadata": {
        "id": "BoNnVsTADyz5"
      },
      "source": [
        "## <p style=\"background-color:#9d4f8c; font-family:newtimeroman; color:#FFF9ED; font-size:175%; text-align:center; border-radius:10px 10px;\">Limitation & Transformation of the Outliers</p>\n",
        "\n",
        "<a id=\"4\"></a>\n",
        "<a href=\"#toc\" class=\"btn btn-primary btn-sm\" role=\"button\" aria-pressed=\"true\" \n",
        "style=\"color:blue; background-color:#dfa8e4\" data-toggle=\"popover\">Content</a>"
      ]
    },
    {
      "cell_type": "markdown",
      "source": [
        ""
      ],
      "metadata": {
        "id": "lK0NYjZKbbGR"
      }
    },
    {
      "cell_type": "markdown",
      "metadata": {
        "id": "Cps28shGDyz5"
      },
      "source": [
        "## Limitation using ``.winsorize()`` method\n",
        "\n",
        "With winsorizing, any value of a variable above or below a percentile k on each side of the variables’ distribution is replaced with the value of the k-th percentile itself. For example, if k=5, all observations above the 95th percentile are recoded to the value of the 95th percentile, and values below the 5th percent are recoded, respectively [Source 01](https://towardsdatascience.com/detecting-and-treating-outliers-in-python-part-3-dcb54abaf7b0) & [Source 02](https://docs.scipy.org/doc/scipy/reference/generated/scipy.stats.mstats.winsorize.html)."
      ]
    },
    {
      "cell_type": "code",
      "execution_count": 59,
      "metadata": {
        "id": "LiD8IoKdDyz5"
      },
      "outputs": [],
      "source": [
        "from scipy.stats.mstats import winsorize"
      ]
    },
    {
      "cell_type": "code",
      "execution_count": 60,
      "metadata": {
        "id": "ISn5qM5goARt",
        "outputId": "50fad3b2-4b85-4e71-e4de-6ffdaa30bfce",
        "colab": {
          "base_uri": "https://localhost:8080/",
          "height": 424
        }
      },
      "outputs": [
        {
          "output_type": "execute_result",
          "data": {
            "text/plain": [
              "       carat        cut color clarity  depth  table  price     x     y     z\n",
              "0       0.23      Ideal     E     SI2   61.5   55.0    326  3.95  3.98  2.43\n",
              "1       0.21    Premium     E     SI1   59.8   61.0    326  3.89  3.84  2.31\n",
              "2       0.23       Good     E     VS1   56.9   65.0    327  4.05  4.07  2.31\n",
              "3       0.29    Premium     I     VS2   62.4   58.0    334  4.20  4.23  2.63\n",
              "4       0.31       Good     J     SI2   63.3   58.0    335  4.34  4.35  2.75\n",
              "...      ...        ...   ...     ...    ...    ...    ...   ...   ...   ...\n",
              "53935   0.72      Ideal     D     SI1   60.8   57.0   2757  5.75  5.76  3.50\n",
              "53936   0.72       Good     D     SI1   63.1   55.0   2757  5.69  5.75  3.61\n",
              "53937   0.70  Very Good     D     SI1   62.8   60.0   2757  5.66  5.68  3.56\n",
              "53938   0.86    Premium     H     SI2   61.0   58.0   2757  6.15  6.12  3.74\n",
              "53939   0.75      Ideal     D     SI2   62.2   55.0   2757  5.83  5.87  3.64\n",
              "\n",
              "[53940 rows x 10 columns]"
            ],
            "text/html": [
              "\n",
              "  <div id=\"df-858b6767-d262-4860-8676-bd624042c0aa\">\n",
              "    <div class=\"colab-df-container\">\n",
              "      <div>\n",
              "<style scoped>\n",
              "    .dataframe tbody tr th:only-of-type {\n",
              "        vertical-align: middle;\n",
              "    }\n",
              "\n",
              "    .dataframe tbody tr th {\n",
              "        vertical-align: top;\n",
              "    }\n",
              "\n",
              "    .dataframe thead th {\n",
              "        text-align: right;\n",
              "    }\n",
              "</style>\n",
              "<table border=\"1\" class=\"dataframe\">\n",
              "  <thead>\n",
              "    <tr style=\"text-align: right;\">\n",
              "      <th></th>\n",
              "      <th>carat</th>\n",
              "      <th>cut</th>\n",
              "      <th>color</th>\n",
              "      <th>clarity</th>\n",
              "      <th>depth</th>\n",
              "      <th>table</th>\n",
              "      <th>price</th>\n",
              "      <th>x</th>\n",
              "      <th>y</th>\n",
              "      <th>z</th>\n",
              "    </tr>\n",
              "  </thead>\n",
              "  <tbody>\n",
              "    <tr>\n",
              "      <th>0</th>\n",
              "      <td>0.23</td>\n",
              "      <td>Ideal</td>\n",
              "      <td>E</td>\n",
              "      <td>SI2</td>\n",
              "      <td>61.5</td>\n",
              "      <td>55.0</td>\n",
              "      <td>326</td>\n",
              "      <td>3.95</td>\n",
              "      <td>3.98</td>\n",
              "      <td>2.43</td>\n",
              "    </tr>\n",
              "    <tr>\n",
              "      <th>1</th>\n",
              "      <td>0.21</td>\n",
              "      <td>Premium</td>\n",
              "      <td>E</td>\n",
              "      <td>SI1</td>\n",
              "      <td>59.8</td>\n",
              "      <td>61.0</td>\n",
              "      <td>326</td>\n",
              "      <td>3.89</td>\n",
              "      <td>3.84</td>\n",
              "      <td>2.31</td>\n",
              "    </tr>\n",
              "    <tr>\n",
              "      <th>2</th>\n",
              "      <td>0.23</td>\n",
              "      <td>Good</td>\n",
              "      <td>E</td>\n",
              "      <td>VS1</td>\n",
              "      <td>56.9</td>\n",
              "      <td>65.0</td>\n",
              "      <td>327</td>\n",
              "      <td>4.05</td>\n",
              "      <td>4.07</td>\n",
              "      <td>2.31</td>\n",
              "    </tr>\n",
              "    <tr>\n",
              "      <th>3</th>\n",
              "      <td>0.29</td>\n",
              "      <td>Premium</td>\n",
              "      <td>I</td>\n",
              "      <td>VS2</td>\n",
              "      <td>62.4</td>\n",
              "      <td>58.0</td>\n",
              "      <td>334</td>\n",
              "      <td>4.20</td>\n",
              "      <td>4.23</td>\n",
              "      <td>2.63</td>\n",
              "    </tr>\n",
              "    <tr>\n",
              "      <th>4</th>\n",
              "      <td>0.31</td>\n",
              "      <td>Good</td>\n",
              "      <td>J</td>\n",
              "      <td>SI2</td>\n",
              "      <td>63.3</td>\n",
              "      <td>58.0</td>\n",
              "      <td>335</td>\n",
              "      <td>4.34</td>\n",
              "      <td>4.35</td>\n",
              "      <td>2.75</td>\n",
              "    </tr>\n",
              "    <tr>\n",
              "      <th>...</th>\n",
              "      <td>...</td>\n",
              "      <td>...</td>\n",
              "      <td>...</td>\n",
              "      <td>...</td>\n",
              "      <td>...</td>\n",
              "      <td>...</td>\n",
              "      <td>...</td>\n",
              "      <td>...</td>\n",
              "      <td>...</td>\n",
              "      <td>...</td>\n",
              "    </tr>\n",
              "    <tr>\n",
              "      <th>53935</th>\n",
              "      <td>0.72</td>\n",
              "      <td>Ideal</td>\n",
              "      <td>D</td>\n",
              "      <td>SI1</td>\n",
              "      <td>60.8</td>\n",
              "      <td>57.0</td>\n",
              "      <td>2757</td>\n",
              "      <td>5.75</td>\n",
              "      <td>5.76</td>\n",
              "      <td>3.50</td>\n",
              "    </tr>\n",
              "    <tr>\n",
              "      <th>53936</th>\n",
              "      <td>0.72</td>\n",
              "      <td>Good</td>\n",
              "      <td>D</td>\n",
              "      <td>SI1</td>\n",
              "      <td>63.1</td>\n",
              "      <td>55.0</td>\n",
              "      <td>2757</td>\n",
              "      <td>5.69</td>\n",
              "      <td>5.75</td>\n",
              "      <td>3.61</td>\n",
              "    </tr>\n",
              "    <tr>\n",
              "      <th>53937</th>\n",
              "      <td>0.70</td>\n",
              "      <td>Very Good</td>\n",
              "      <td>D</td>\n",
              "      <td>SI1</td>\n",
              "      <td>62.8</td>\n",
              "      <td>60.0</td>\n",
              "      <td>2757</td>\n",
              "      <td>5.66</td>\n",
              "      <td>5.68</td>\n",
              "      <td>3.56</td>\n",
              "    </tr>\n",
              "    <tr>\n",
              "      <th>53938</th>\n",
              "      <td>0.86</td>\n",
              "      <td>Premium</td>\n",
              "      <td>H</td>\n",
              "      <td>SI2</td>\n",
              "      <td>61.0</td>\n",
              "      <td>58.0</td>\n",
              "      <td>2757</td>\n",
              "      <td>6.15</td>\n",
              "      <td>6.12</td>\n",
              "      <td>3.74</td>\n",
              "    </tr>\n",
              "    <tr>\n",
              "      <th>53939</th>\n",
              "      <td>0.75</td>\n",
              "      <td>Ideal</td>\n",
              "      <td>D</td>\n",
              "      <td>SI2</td>\n",
              "      <td>62.2</td>\n",
              "      <td>55.0</td>\n",
              "      <td>2757</td>\n",
              "      <td>5.83</td>\n",
              "      <td>5.87</td>\n",
              "      <td>3.64</td>\n",
              "    </tr>\n",
              "  </tbody>\n",
              "</table>\n",
              "<p>53940 rows × 10 columns</p>\n",
              "</div>\n",
              "      <button class=\"colab-df-convert\" onclick=\"convertToInteractive('df-858b6767-d262-4860-8676-bd624042c0aa')\"\n",
              "              title=\"Convert this dataframe to an interactive table.\"\n",
              "              style=\"display:none;\">\n",
              "        \n",
              "  <svg xmlns=\"http://www.w3.org/2000/svg\" height=\"24px\"viewBox=\"0 0 24 24\"\n",
              "       width=\"24px\">\n",
              "    <path d=\"M0 0h24v24H0V0z\" fill=\"none\"/>\n",
              "    <path d=\"M18.56 5.44l.94 2.06.94-2.06 2.06-.94-2.06-.94-.94-2.06-.94 2.06-2.06.94zm-11 1L8.5 8.5l.94-2.06 2.06-.94-2.06-.94L8.5 2.5l-.94 2.06-2.06.94zm10 10l.94 2.06.94-2.06 2.06-.94-2.06-.94-.94-2.06-.94 2.06-2.06.94z\"/><path d=\"M17.41 7.96l-1.37-1.37c-.4-.4-.92-.59-1.43-.59-.52 0-1.04.2-1.43.59L10.3 9.45l-7.72 7.72c-.78.78-.78 2.05 0 2.83L4 21.41c.39.39.9.59 1.41.59.51 0 1.02-.2 1.41-.59l7.78-7.78 2.81-2.81c.8-.78.8-2.07 0-2.86zM5.41 20L4 18.59l7.72-7.72 1.47 1.35L5.41 20z\"/>\n",
              "  </svg>\n",
              "      </button>\n",
              "      \n",
              "  <style>\n",
              "    .colab-df-container {\n",
              "      display:flex;\n",
              "      flex-wrap:wrap;\n",
              "      gap: 12px;\n",
              "    }\n",
              "\n",
              "    .colab-df-convert {\n",
              "      background-color: #E8F0FE;\n",
              "      border: none;\n",
              "      border-radius: 50%;\n",
              "      cursor: pointer;\n",
              "      display: none;\n",
              "      fill: #1967D2;\n",
              "      height: 32px;\n",
              "      padding: 0 0 0 0;\n",
              "      width: 32px;\n",
              "    }\n",
              "\n",
              "    .colab-df-convert:hover {\n",
              "      background-color: #E2EBFA;\n",
              "      box-shadow: 0px 1px 2px rgba(60, 64, 67, 0.3), 0px 1px 3px 1px rgba(60, 64, 67, 0.15);\n",
              "      fill: #174EA6;\n",
              "    }\n",
              "\n",
              "    [theme=dark] .colab-df-convert {\n",
              "      background-color: #3B4455;\n",
              "      fill: #D2E3FC;\n",
              "    }\n",
              "\n",
              "    [theme=dark] .colab-df-convert:hover {\n",
              "      background-color: #434B5C;\n",
              "      box-shadow: 0px 1px 3px 1px rgba(0, 0, 0, 0.15);\n",
              "      filter: drop-shadow(0px 1px 2px rgba(0, 0, 0, 0.3));\n",
              "      fill: #FFFFFF;\n",
              "    }\n",
              "  </style>\n",
              "\n",
              "      <script>\n",
              "        const buttonEl =\n",
              "          document.querySelector('#df-858b6767-d262-4860-8676-bd624042c0aa button.colab-df-convert');\n",
              "        buttonEl.style.display =\n",
              "          google.colab.kernel.accessAllowed ? 'block' : 'none';\n",
              "\n",
              "        async function convertToInteractive(key) {\n",
              "          const element = document.querySelector('#df-858b6767-d262-4860-8676-bd624042c0aa');\n",
              "          const dataTable =\n",
              "            await google.colab.kernel.invokeFunction('convertToInteractive',\n",
              "                                                     [key], {});\n",
              "          if (!dataTable) return;\n",
              "\n",
              "          const docLinkHtml = 'Like what you see? Visit the ' +\n",
              "            '<a target=\"_blank\" href=https://colab.research.google.com/notebooks/data_table.ipynb>data table notebook</a>'\n",
              "            + ' to learn more about interactive tables.';\n",
              "          element.innerHTML = '';\n",
              "          dataTable['output_type'] = 'display_data';\n",
              "          await google.colab.output.renderOutput(dataTable, element);\n",
              "          const docLink = document.createElement('div');\n",
              "          docLink.innerHTML = docLinkHtml;\n",
              "          element.appendChild(docLink);\n",
              "        }\n",
              "      </script>\n",
              "    </div>\n",
              "  </div>\n",
              "  "
            ]
          },
          "metadata": {},
          "execution_count": 60
        }
      ],
      "source": [
        "df"
      ]
    },
    {
      "cell_type": "code",
      "execution_count": 63,
      "metadata": {
        "id": "kxx8CIiUoARt",
        "outputId": "f6a1f6d8-abfc-49bc-dca7-af86095c1cb9",
        "colab": {
          "base_uri": "https://localhost:8080/"
        }
      },
      "outputs": [
        {
          "output_type": "execute_result",
          "data": {
            "text/plain": [
              "masked_array(data=[55., 61., 61., ..., 60., 58., 55.],\n",
              "             mask=False,\n",
              "       fill_value=1e+20)"
            ]
          },
          "metadata": {},
          "execution_count": 63
        }
      ],
      "source": [
        "# bastan 2%lik bir kismi whiskera yaklastir, sondan 5%lik bir kismi whiskera yaklastir\n",
        "# this is just guessing!\n",
        "\n",
        "winsorize(df.table, (0.02, 0.05))"
      ]
    },
    {
      "cell_type": "code",
      "execution_count": 66,
      "metadata": {
        "id": "wDwipQ24oARt",
        "outputId": "aedff770-4caf-4551-b2d8-21fdfcd41359",
        "colab": {
          "base_uri": "https://localhost:8080/"
        }
      },
      "outputs": [
        {
          "output_type": "execute_result",
          "data": {
            "text/plain": [
              "0.00029662588060808305"
            ]
          },
          "metadata": {},
          "execution_count": 66
        }
      ],
      "source": [
        "# math yapacaksin. Toplam kac tane outlier oldugunu biliyorsun upper limit ve lower limit kullanarak\n",
        "# yuzdeleri hesaplan gerek\n",
        "\n",
        "# lower limitten daha kucuk olan outlierlarin yuzdesi \n",
        "a  = len(df.table[df.table<lower_lim])/len(df)\n",
        "a"
      ]
    },
    {
      "cell_type": "code",
      "execution_count": 71,
      "metadata": {
        "id": "cYZSg1OToARt",
        "outputId": "e7eab8c3-a081-4e42-bb53-1b81f0e4c8fc",
        "colab": {
          "base_uri": "https://localhost:8080/"
        }
      },
      "outputs": [
        {
          "output_type": "execute_result",
          "data": {
            "text/plain": [
              "0.010919540229885057"
            ]
          },
          "metadata": {},
          "execution_count": 71
        }
      ],
      "source": [
        "# upper limit outlierlarin yuzdesi\n",
        "b = len(df.table[df.table>upper_lim])/len(df)\n",
        "b"
      ]
    },
    {
      "cell_type": "code",
      "execution_count": 72,
      "metadata": {
        "id": "5KRngj9uoARt",
        "outputId": "ae9f3810-9672-4095-9e41-472639eb0bd3",
        "colab": {
          "base_uri": "https://localhost:8080/"
        }
      },
      "outputs": [
        {
          "output_type": "execute_result",
          "data": {
            "text/plain": [
              "masked_array(data=[55. , 61. , 63.5, ..., 60. , 58. , 55. ],\n",
              "             mask=False,\n",
              "       fill_value=1e+20)"
            ]
          },
          "metadata": {},
          "execution_count": 72
        }
      ],
      "source": [
        "#  mantikli version is below based on percentages\n",
        "\n",
        "table_win = winsorize(df.table, (a, b))\n",
        "table_win"
      ]
    },
    {
      "cell_type": "code",
      "execution_count": 74,
      "metadata": {
        "id": "JmQMDbbgoARt",
        "outputId": "18532649-2882-48cb-bee3-84251bb98e19",
        "colab": {
          "base_uri": "https://localhost:8080/",
          "height": 374
        }
      },
      "outputs": [
        {
          "output_type": "display_data",
          "data": {
            "text/plain": [
              "<Figure size 720x432 with 1 Axes>"
            ],
            "image/png": "[encoded data removed]"
          },
          "metadata": {
            "needs_background": "light"
          }
        }
      ],
      "source": [
        "plt.figure(figsize = (10,6))\n",
        "sns.boxplot(x=table_win);"
      ]
    },
    {
      "cell_type": "code",
      "execution_count": 75,
      "metadata": {
        "id": "ZsIKJGJ4oARu",
        "outputId": "1f7237db-78fc-445d-829d-ad176f2b6a7d",
        "colab": {
          "base_uri": "https://localhost:8080/",
          "height": 265
        }
      },
      "outputs": [
        {
          "output_type": "display_data",
          "data": {
            "text/plain": [
              "<Figure size 432x288 with 1 Axes>"
            ],
            "image/png": "[encoded data removed]"
          },
          "metadata": {
            "needs_background": "light"
          }
        }
      ],
      "source": [
        "sns.histplot(table_win, bins=10, kde=False);"
      ]
    },
    {
      "cell_type": "code",
      "execution_count": 76,
      "metadata": {
        "id": "GJtD70DMoARu",
        "outputId": "dceb5bb7-afb2-469a-a1a6-43584cc2b523",
        "colab": {
          "base_uri": "https://localhost:8080/"
        }
      },
      "outputs": [
        {
          "output_type": "execute_result",
          "data": {
            "text/plain": [
              "0        55.0\n",
              "1        61.0\n",
              "2        63.5\n",
              "3        58.0\n",
              "4        58.0\n",
              "         ... \n",
              "53935    57.0\n",
              "53936    55.0\n",
              "53937    60.0\n",
              "53938    58.0\n",
              "53939    55.0\n",
              "Length: 53940, dtype: float64"
            ]
          },
          "metadata": {},
          "execution_count": 76
        }
      ],
      "source": [
        "table_win_ser = pd.Series(table_win)\n",
        "table_win_ser"
      ]
    },
    {
      "cell_type": "code",
      "execution_count": 78,
      "metadata": {
        "id": "mAti_GN9oARu",
        "outputId": "ba2ff392-a041-460f-e29f-95d1c8882fca",
        "colab": {
          "base_uri": "https://localhost:8080/"
        }
      },
      "outputs": [
        {
          "output_type": "execute_result",
          "data": {
            "text/plain": [
              "count    53940.000000\n",
              "mean        57.438591\n",
              "std          2.161059\n",
              "min         51.600000\n",
              "25%         56.000000\n",
              "50%         57.000000\n",
              "75%         59.000000\n",
              "max         63.500000\n",
              "dtype: float64"
            ]
          },
          "metadata": {},
          "execution_count": 78
        }
      ],
      "source": [
        "table_win_ser.describe()"
      ]
    },
    {
      "cell_type": "code",
      "execution_count": 79,
      "metadata": {
        "id": "OEdtsJVPoARu",
        "outputId": "fda38b0e-7313-4136-816e-212b337106a2",
        "colab": {
          "base_uri": "https://localhost:8080/",
          "height": 300
        }
      },
      "outputs": [
        {
          "output_type": "execute_result",
          "data": {
            "text/plain": [
              "              first         clean\n",
              "count  53940.000000  53940.000000\n",
              "mean      57.457184     57.438591\n",
              "std        2.234491      2.161059\n",
              "min       43.000000     51.600000\n",
              "25%       56.000000     56.000000\n",
              "50%       57.000000     57.000000\n",
              "75%       59.000000     59.000000\n",
              "max       95.000000     63.500000"
            ],
            "text/html": [
              "\n",
              "  <div id=\"df-2f6a2309-8aae-4b11-8a83-708c39e72e3d\">\n",
              "    <div class=\"colab-df-container\">\n",
              "      <div>\n",
              "<style scoped>\n",
              "    .dataframe tbody tr th:only-of-type {\n",
              "        vertical-align: middle;\n",
              "    }\n",
              "\n",
              "    .dataframe tbody tr th {\n",
              "        vertical-align: top;\n",
              "    }\n",
              "\n",
              "    .dataframe thead th {\n",
              "        text-align: right;\n",
              "    }\n",
              "</style>\n",
              "<table border=\"1\" class=\"dataframe\">\n",
              "  <thead>\n",
              "    <tr style=\"text-align: right;\">\n",
              "      <th></th>\n",
              "      <th>first</th>\n",
              "      <th>clean</th>\n",
              "    </tr>\n",
              "  </thead>\n",
              "  <tbody>\n",
              "    <tr>\n",
              "      <th>count</th>\n",
              "      <td>53940.000000</td>\n",
              "      <td>53940.000000</td>\n",
              "    </tr>\n",
              "    <tr>\n",
              "      <th>mean</th>\n",
              "      <td>57.457184</td>\n",
              "      <td>57.438591</td>\n",
              "    </tr>\n",
              "    <tr>\n",
              "      <th>std</th>\n",
              "      <td>2.234491</td>\n",
              "      <td>2.161059</td>\n",
              "    </tr>\n",
              "    <tr>\n",
              "      <th>min</th>\n",
              "      <td>43.000000</td>\n",
              "      <td>51.600000</td>\n",
              "    </tr>\n",
              "    <tr>\n",
              "      <th>25%</th>\n",
              "      <td>56.000000</td>\n",
              "      <td>56.000000</td>\n",
              "    </tr>\n",
              "    <tr>\n",
              "      <th>50%</th>\n",
              "      <td>57.000000</td>\n",
              "      <td>57.000000</td>\n",
              "    </tr>\n",
              "    <tr>\n",
              "      <th>75%</th>\n",
              "      <td>59.000000</td>\n",
              "      <td>59.000000</td>\n",
              "    </tr>\n",
              "    <tr>\n",
              "      <th>max</th>\n",
              "      <td>95.000000</td>\n",
              "      <td>63.500000</td>\n",
              "    </tr>\n",
              "  </tbody>\n",
              "</table>\n",
              "</div>\n",
              "      <button class=\"colab-df-convert\" onclick=\"convertToInteractive('df-2f6a2309-8aae-4b11-8a83-708c39e72e3d')\"\n",
              "              title=\"Convert this dataframe to an interactive table.\"\n",
              "              style=\"display:none;\">\n",
              "        \n",
              "  <svg xmlns=\"http://www.w3.org/2000/svg\" height=\"24px\"viewBox=\"0 0 24 24\"\n",
              "       width=\"24px\">\n",
              "    <path d=\"M0 0h24v24H0V0z\" fill=\"none\"/>\n",
              "    <path d=\"M18.56 5.44l.94 2.06.94-2.06 2.06-.94-2.06-.94-.94-2.06-.94 2.06-2.06.94zm-11 1L8.5 8.5l.94-2.06 2.06-.94-2.06-.94L8.5 2.5l-.94 2.06-2.06.94zm10 10l.94 2.06.94-2.06 2.06-.94-2.06-.94-.94-2.06-.94 2.06-2.06.94z\"/><path d=\"M17.41 7.96l-1.37-1.37c-.4-.4-.92-.59-1.43-.59-.52 0-1.04.2-1.43.59L10.3 9.45l-7.72 7.72c-.78.78-.78 2.05 0 2.83L4 21.41c.39.39.9.59 1.41.59.51 0 1.02-.2 1.41-.59l7.78-7.78 2.81-2.81c.8-.78.8-2.07 0-2.86zM5.41 20L4 18.59l7.72-7.72 1.47 1.35L5.41 20z\"/>\n",
              "  </svg>\n",
              "      </button>\n",
              "      \n",
              "  <style>\n",
              "    .colab-df-container {\n",
              "      display:flex;\n",
              "      flex-wrap:wrap;\n",
              "      gap: 12px;\n",
              "    }\n",
              "\n",
              "    .colab-df-convert {\n",
              "      background-color: #E8F0FE;\n",
              "      border: none;\n",
              "      border-radius: 50%;\n",
              "      cursor: pointer;\n",
              "      display: none;\n",
              "      fill: #1967D2;\n",
              "      height: 32px;\n",
              "      padding: 0 0 0 0;\n",
              "      width: 32px;\n",
              "    }\n",
              "\n",
              "    .colab-df-convert:hover {\n",
              "      background-color: #E2EBFA;\n",
              "      box-shadow: 0px 1px 2px rgba(60, 64, 67, 0.3), 0px 1px 3px 1px rgba(60, 64, 67, 0.15);\n",
              "      fill: #174EA6;\n",
              "    }\n",
              "\n",
              "    [theme=dark] .colab-df-convert {\n",
              "      background-color: #3B4455;\n",
              "      fill: #D2E3FC;\n",
              "    }\n",
              "\n",
              "    [theme=dark] .colab-df-convert:hover {\n",
              "      background-color: #434B5C;\n",
              "      box-shadow: 0px 1px 3px 1px rgba(0, 0, 0, 0.15);\n",
              "      filter: drop-shadow(0px 1px 2px rgba(0, 0, 0, 0.3));\n",
              "      fill: #FFFFFF;\n",
              "    }\n",
              "  </style>\n",
              "\n",
              "      <script>\n",
              "        const buttonEl =\n",
              "          document.querySelector('#df-2f6a2309-8aae-4b11-8a83-708c39e72e3d button.colab-df-convert');\n",
              "        buttonEl.style.display =\n",
              "          google.colab.kernel.accessAllowed ? 'block' : 'none';\n",
              "\n",
              "        async function convertToInteractive(key) {\n",
              "          const element = document.querySelector('#df-2f6a2309-8aae-4b11-8a83-708c39e72e3d');\n",
              "          const dataTable =\n",
              "            await google.colab.kernel.invokeFunction('convertToInteractive',\n",
              "                                                     [key], {});\n",
              "          if (!dataTable) return;\n",
              "\n",
              "          const docLinkHtml = 'Like what you see? Visit the ' +\n",
              "            '<a target=\"_blank\" href=https://colab.research.google.com/notebooks/data_table.ipynb>data table notebook</a>'\n",
              "            + ' to learn more about interactive tables.';\n",
              "          element.innerHTML = '';\n",
              "          dataTable['output_type'] = 'display_data';\n",
              "          await google.colab.output.renderOutput(dataTable, element);\n",
              "          const docLink = document.createElement('div');\n",
              "          docLink.innerHTML = docLinkHtml;\n",
              "          element.appendChild(docLink);\n",
              "        }\n",
              "      </script>\n",
              "    </div>\n",
              "  </div>\n",
              "  "
            ]
          },
          "metadata": {},
          "execution_count": 79
        }
      ],
      "source": [
        "# compare the description of data\n",
        "pd.DataFrame([df.table.describe(), table_win_ser.describe()], index = [\"first\", \"clean\"]).T"
      ]
    },
    {
      "cell_type": "code",
      "execution_count": 82,
      "metadata": {
        "id": "uqJda4VpoARu",
        "outputId": "7729c977-efa6-430a-bc15-c0545b862b0a",
        "colab": {
          "base_uri": "https://localhost:8080/"
        }
      },
      "outputs": [
        {
          "output_type": "execute_result",
          "data": {
            "text/plain": [
              "11368    43.0\n",
              "35633    44.0\n",
              "5979     49.0\n",
              "22701    49.0\n",
              "25179    50.0\n",
              "7418     50.0\n",
              "3238     50.1\n",
              "45798    51.0\n",
              "33586    51.0\n",
              "46040    51.0\n",
              "26387    51.0\n",
              "3979     51.0\n",
              "8853     51.0\n",
              "4150     51.0\n",
              "1515     51.0\n",
              "47630    51.0\n",
              "24815    51.6\n",
              "15858    52.0\n",
              "25607    52.0\n",
              "5144     52.0\n",
              "Name: table, dtype: float64"
            ]
          },
          "metadata": {},
          "execution_count": 82
        }
      ],
      "source": [
        "df.table.sort_values().head(20)"
      ]
    },
    {
      "cell_type": "code",
      "execution_count": 84,
      "metadata": {
        "id": "l0nXdKAfoARu",
        "outputId": "562d1d51-7f72-4491-d315-19ec29f06db6",
        "colab": {
          "base_uri": "https://localhost:8080/"
        }
      },
      "outputs": [
        {
          "output_type": "execute_result",
          "data": {
            "text/plain": [
              "11368    51.6\n",
              "25179    51.6\n",
              "45798    51.6\n",
              "33586    51.6\n",
              "46040    51.6\n",
              "26387    51.6\n",
              "3979     51.6\n",
              "8853     51.6\n",
              "35633    51.6\n",
              "22701    51.6\n",
              "24815    51.6\n",
              "1515     51.6\n",
              "5979     51.6\n",
              "3238     51.6\n",
              "47630    51.6\n",
              "4150     51.6\n",
              "7418     51.6\n",
              "5144     52.0\n",
              "33408    52.0\n",
              "26431    52.0\n",
              "dtype: float64"
            ]
          },
          "metadata": {},
          "execution_count": 84
        }
      ],
      "source": [
        "#  51.6dan kucuk degerlerin hepsini 51.6ya cevirdi, sikistirdi. \n",
        "\n",
        "table_win_ser.sort_values().head(20)"
      ]
    },
    {
      "cell_type": "code",
      "execution_count": 59,
      "metadata": {
        "id": "VhIuxpN4oARu"
      },
      "outputs": [],
      "source": [
        ""
      ]
    },
    {
      "cell_type": "markdown",
      "metadata": {
        "id": "b7SA6AuKDyz9"
      },
      "source": [
        "## Transformation using ``log()`` method\n",
        "\n",
        "The **``Numpy.log()``** method lets you calculate the mathematical log of any number or array. The numpy.log() is a mathematical function that helps user to calculate Natural logarithm of x where x belongs to all the input array elements.\n",
        "\n",
        "The natural logarithm log is the inverse of the exponential function, so that log(exp(x)) = x. The natural logarithm is logarithm in base e [Source 01](https://www.geeksforgeeks.org/numpy-log-python/#:~:text=The%20numpy.,is%20log%20in%20base%20e.) & [Source 02](https://numpy.org/doc/stable/reference/generated/numpy.log.html)."
      ]
    },
    {
      "cell_type": "code",
      "execution_count": 1,
      "metadata": {
        "id": "kJnzECByoARu",
        "outputId": "f4e1e5ed-375d-45e0-e1f0-f9e010cb25cd",
        "colab": {
          "base_uri": "https://localhost:8080/",
          "height": 169
        }
      },
      "outputs": [
        {
          "output_type": "error",
          "ename": "NameError",
          "evalue": "ignored",
          "traceback": [
            "\u001b[0;31m---------------------------------------------------------------------------\u001b[0m",
            "\u001b[0;31mNameError\u001b[0m                                 Traceback (most recent call last)",
            "\u001b[0;32m<ipython-input-1-00cf07b74dcd>\u001b[0m in \u001b[0;36m<module>\u001b[0;34m()\u001b[0m\n\u001b[0;32m----> 1\u001b[0;31m \u001b[0mdf\u001b[0m\u001b[0;34m\u001b[0m\u001b[0;34m\u001b[0m\u001b[0m\n\u001b[0m",
            "\u001b[0;31mNameError\u001b[0m: name 'df' is not defined"
          ]
        }
      ],
      "source": [
        "df"
      ]
    },
    {
      "cell_type": "code",
      "execution_count": null,
      "metadata": {
        "id": "5Wr4jg2EoARv"
      },
      "outputs": [],
      "source": [
        ""
      ]
    },
    {
      "cell_type": "code",
      "execution_count": null,
      "metadata": {
        "id": "NY75aYhPoARv"
      },
      "outputs": [],
      "source": [
        ""
      ]
    },
    {
      "cell_type": "code",
      "execution_count": null,
      "metadata": {
        "id": "0TQ1zExXoARv"
      },
      "outputs": [],
      "source": [
        ""
      ]
    },
    {
      "cell_type": "code",
      "execution_count": null,
      "metadata": {
        "id": "k34rjInWoARv"
      },
      "outputs": [],
      "source": [
        ""
      ]
    },
    {
      "cell_type": "code",
      "execution_count": null,
      "metadata": {
        "id": "si7Wq5zuoARv"
      },
      "outputs": [],
      "source": [
        ""
      ]
    },
    {
      "cell_type": "code",
      "execution_count": null,
      "metadata": {
        "id": "_-z81iyXoARv"
      },
      "outputs": [],
      "source": [
        ""
      ]
    },
    {
      "cell_type": "code",
      "execution_count": null,
      "metadata": {
        "id": "w4Vq6bBYoARv"
      },
      "outputs": [],
      "source": [
        ""
      ]
    },
    {
      "cell_type": "markdown",
      "metadata": {
        "id": "8ACoVoZM98gw"
      },
      "source": [
        "## Removing outliers after log() transformation"
      ]
    },
    {
      "cell_type": "markdown",
      "metadata": {
        "id": "rk83AjCAoARw"
      },
      "source": [
        "**first method to drop outliers**"
      ]
    },
    {
      "cell_type": "code",
      "execution_count": null,
      "metadata": {
        "id": "EnDw_UmPoARw"
      },
      "outputs": [],
      "source": [
        ""
      ]
    },
    {
      "cell_type": "code",
      "execution_count": null,
      "metadata": {
        "id": "GVb94z9boARw"
      },
      "outputs": [],
      "source": [
        ""
      ]
    },
    {
      "cell_type": "code",
      "execution_count": null,
      "metadata": {
        "id": "e-UtDb8noARw"
      },
      "outputs": [],
      "source": [
        ""
      ]
    },
    {
      "cell_type": "markdown",
      "metadata": {
        "id": "fO2FyvJ-oARw"
      },
      "source": [
        "**second method to drop outliers**"
      ]
    },
    {
      "cell_type": "code",
      "execution_count": null,
      "metadata": {
        "id": "PLnx9m1LoARw"
      },
      "outputs": [],
      "source": [
        ""
      ]
    },
    {
      "cell_type": "code",
      "execution_count": null,
      "metadata": {
        "id": "wHRd8T17oARw"
      },
      "outputs": [],
      "source": [
        ""
      ]
    },
    {
      "cell_type": "code",
      "execution_count": null,
      "metadata": {
        "id": "e0b8VHTgoARw"
      },
      "outputs": [],
      "source": [
        ""
      ]
    },
    {
      "cell_type": "code",
      "execution_count": null,
      "metadata": {
        "id": "ByO63D42oARx"
      },
      "outputs": [],
      "source": [
        ""
      ]
    },
    {
      "cell_type": "code",
      "execution_count": null,
      "metadata": {
        "id": "pZoEfCkToARx"
      },
      "outputs": [],
      "source": [
        ""
      ]
    },
    {
      "cell_type": "code",
      "execution_count": null,
      "metadata": {
        "id": "JQxEa_F-oARx"
      },
      "outputs": [],
      "source": [
        ""
      ]
    },
    {
      "cell_type": "code",
      "execution_count": null,
      "metadata": {
        "id": "j6yRc9LqoARx"
      },
      "outputs": [],
      "source": [
        ""
      ]
    },
    {
      "cell_type": "markdown",
      "metadata": {
        "id": "hrFFCaHFoARx"
      },
      "source": [
        "**third method to drop outliers**"
      ]
    },
    {
      "cell_type": "code",
      "execution_count": null,
      "metadata": {
        "id": "oAlq8lAfoARx"
      },
      "outputs": [],
      "source": [
        ""
      ]
    },
    {
      "cell_type": "code",
      "execution_count": null,
      "metadata": {
        "id": "TqbNTOnSoARx"
      },
      "outputs": [],
      "source": [
        ""
      ]
    },
    {
      "cell_type": "code",
      "execution_count": null,
      "metadata": {
        "id": "cd3oZh_eoARx"
      },
      "outputs": [],
      "source": [
        ""
      ]
    },
    {
      "cell_type": "code",
      "execution_count": null,
      "metadata": {
        "id": "WLy93SuaoARy"
      },
      "outputs": [],
      "source": [
        ""
      ]
    },
    {
      "cell_type": "code",
      "execution_count": null,
      "metadata": {
        "id": "lxe5TOjloARy"
      },
      "outputs": [],
      "source": [
        ""
      ]
    },
    {
      "cell_type": "markdown",
      "metadata": {
        "id": "RN385jm8oARy"
      },
      "source": [
        "## <p style=\"background-color:#FDFEFE; font-family:newtimeroman; color:#9d4f8c; font-size:150%; text-align:center; border-radius:10px 10px;\">The End of The Session - 08</p>\n",
        "\n",
        "<a id=\"5\"></a>\n",
        "<a href=\"#toc\" class=\"btn btn-primary btn-sm\" role=\"button\" aria-pressed=\"true\" \n",
        "style=\"color:blue; background-color:#dfa8e4\" data-toggle=\"popover\">Content</a>"
      ]
    },
    {
      "cell_type": "markdown",
      "metadata": {
        "id": "Q_J6FKsDoARy"
      },
      "source": [
        "<p style=\"text-align: center;\"><img src=\"https://docs.google.com/uc?id=1lY0Uj5R04yMY3-ZppPWxqCr5pvBLYPnV\" class=\"img-fluid\" \n",
        "alt=\"CLRSWY\"></p>\n",
        "\n",
        "## <p style=\"background-color:#FDFEFE; font-family:newtimeroman; color:#9d4f8c; font-size:100%; text-align:center; border-radius:10px 10px;\">WAY TO REINVENT YOURSELF</p>\n",
        "\n",
        "____"
      ]
    }
  ],
  "metadata": {
    "colab": {
      "name": "DAwPy_S8_(Handling_with_Outliers)-student.ipynb",
      "provenance": [],
      "include_colab_link": true
    },
    "kernelspec": {
      "display_name": "Python 3",
      "language": "python",
      "name": "python3"
    },
    "language_info": {
      "codemirror_mode": {
        "name": "ipython",
        "version": 3
      },
      "file_extension": ".py",
      "mimetype": "text/x-python",
      "name": "python",
      "nbconvert_exporter": "python",
      "pygments_lexer": "ipython3",
      "version": "3.7.6"
    },
    "toc": {
      "base_numbering": 1,
      "nav_menu": {},
      "number_sections": false,
      "sideBar": true,
      "skip_h1_title": false,
      "title_cell": "Table of Contents",
      "title_sidebar": "Contents",
      "toc_cell": false,
      "toc_position": {},
      "toc_section_display": true,
      "toc_window_display": false
    }
  },
  "nbformat": 4,
  "nbformat_minor": 0
}